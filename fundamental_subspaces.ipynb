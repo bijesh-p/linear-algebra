{
 "cells": [
  {
   "cell_type": "code",
   "execution_count": null,
   "id": "a8539271",
   "metadata": {},
   "outputs": [],
   "source": [
    "import sympy as sp\n",
    "from sympy import init_printing\n",
    "from IPython.display import display, Markdown, Latex\n",
    "init_printing(use_latex='mathjax')\n",
    "\n",
    "def print_basis(title, basis_vectors, dimension, extra_info=None):\n",
    "    \"\"\"\n",
    "    Print basis vectors in a formatted way using SymPy LaTeX rendering\n",
    "    \n",
    "    Args:\n",
    "        title (str): Title of the subspace (e.g., \"ROW SPACE C(A^T) BASIS\")\n",
    "        basis_vectors (list): List of SymPy matrices representing basis vectors\n",
    "        dimension (int): Dimension of the subspace\n",
    "        extra_info (dict): Optional dictionary with additional info to display\n",
    "    \"\"\"\n",
    "    display(Markdown(f\"**{title}**\"))\n",
    "    \n",
    "    if extra_info:\n",
    "        for key, value in extra_info.items():\n",
    "            display(Markdown(f\"**{key}:** {value}\"))\n",
    "    \n",
    "    # Display all basis vectors as columns (standard mathematical convention)\n",
    "    if basis_vectors:\n",
    "        # Convert all vectors to column vectors and place them side by side\n",
    "        basis_matrix = None\n",
    "        \n",
    "        for vec in basis_vectors:\n",
    "            # Convert to column vector if it's a row vector\n",
    "            if vec.rows == 1:\n",
    "                col_vec = vec.T  # Transpose row vector to column vector\n",
    "            else:\n",
    "                col_vec = vec\n",
    "            \n",
    "            # Build the basis matrix\n",
    "            if basis_matrix is None:\n",
    "                basis_matrix = col_vec\n",
    "            else:\n",
    "                basis_matrix = basis_matrix.row_join(col_vec)\n",
    "        \n",
    "        display(Markdown(\"**Basis vectors:**\"))\n",
    "        display(basis_matrix)\n",
    "    \n",
    "    display(Markdown(f\"**Dimension:** {dimension}\"))"
   ]
  },
  {
   "cell_type": "markdown",
   "id": "7ce26485",
   "metadata": {},
   "source": [
    "# Basis of Four Fundamental Subspaces of a Matrix\n",
    "\n",
    "There are 4 fundamental subspaces of a matrix\n",
    "1. Row Space or Column Space of $A^T$ -> $C(A^T)$\n",
    "2. Column Space -> C(A)\n",
    "3. Null Space -> N(A)\n",
    "4. Left Null Space or Null Space of $A^T$ -> $N(A^T)$\n",
    "\n",
    "The approach of finding basis for all vectors involves transforming the matrix into reduced row echelon form (RREF). We use Gaussian elimination for that\n",
    "\n",
    "##  Worked out procedure\n",
    "\n",
    "### Gaussian Elimination \n",
    "\n",
    "#### Original Matrix"
   ]
  },
  {
   "cell_type": "code",
   "execution_count": null,
   "id": "61f07666",
   "metadata": {},
   "outputs": [
    {
     "data": {
      "text/latex": [
       "$\\displaystyle \\left[\\begin{matrix}1 & 2 & 0 & 2 & 1\\\\3 & 6 & 1 & 9 & 6\\\\2 & 4 & 1 & 7 & 5\\end{matrix}\\right]$"
      ],
      "text/plain": [
       "⎡1  2  0  2  1⎤\n",
       "⎢             ⎥\n",
       "⎢3  6  1  9  6⎥\n",
       "⎢             ⎥\n",
       "⎣2  4  1  7  5⎦"
      ]
     },
     "metadata": {},
     "output_type": "display_data"
    }
   ],
   "source": [
    "A = sp.Matrix([[1, 2, 0, 2, 1], \n",
    "     [3, 6, 1, 9, 6], \n",
    "     [2, 4, 1, 7, 5]]) \n",
    "R= A\n",
    "display(R)"
   ]
  },
  {
   "cell_type": "markdown",
   "id": "37eaa67f",
   "metadata": {},
   "source": [
    "Let us augment this by an identity matrix so that it is easy to find basis for left null space"
   ]
  },
  {
   "cell_type": "code",
   "execution_count": null,
   "id": "09c17103",
   "metadata": {},
   "outputs": [],
   "source": [
    "R = R.row_join(sp.eye(A.rows))"
   ]
  },
  {
   "cell_type": "markdown",
   "id": "39ba69b8",
   "metadata": {},
   "source": [
    "#### First Pivot  \n",
    "Multiply and subtract first row from the below rows to make the entries below 0\n",
    "\n",
    "R2 = R2 - 3 * R1 \n",
    "R3 = R3 - 2 * R1"
   ]
  },
  {
   "cell_type": "code",
   "execution_count": null,
   "id": "fe28fbc5",
   "metadata": {},
   "outputs": [
    {
     "data": {
      "text/latex": [
       "$\\displaystyle \\left[\\begin{matrix}1 & 2 & 0 & 2 & 1 & 1 & 0 & 0\\\\0 & 0 & 1 & 3 & 3 & -3 & 1 & 0\\\\0 & 0 & 1 & 3 & 3 & -2 & 0 & 1\\end{matrix}\\right]$"
      ],
      "text/plain": [
       "⎡1  2  0  2  1  1   0  0⎤\n",
       "⎢                       ⎥\n",
       "⎢0  0  1  3  3  -3  1  0⎥\n",
       "⎢                       ⎥\n",
       "⎣0  0  1  3  3  -2  0  1⎦"
      ]
     },
     "metadata": {},
     "output_type": "display_data"
    }
   ],
   "source": [
    "R[1,:] = R[1,:] - 3*R[0,:]\n",
    "R[2,:] = R[2,:] - 2*R[0,:]\n",
    "display(R)"
   ]
  },
  {
   "cell_type": "markdown",
   "id": "68f8a8e3",
   "metadata": {},
   "source": [
    "#### Second Pivot\n",
    "Multiply and subtract second row from the below rows to make the entries below 0\n",
    "\n",
    "R3 = R3 -R2"
   ]
  },
  {
   "cell_type": "code",
   "execution_count": null,
   "id": "5bb33f29",
   "metadata": {},
   "outputs": [
    {
     "data": {
      "text/latex": [
       "$\\displaystyle \\left[\\begin{matrix}1 & 2 & 0 & 2 & 1 & 1 & 0 & 0\\\\0 & 0 & 1 & 3 & 3 & -3 & 1 & 0\\\\0 & 0 & 0 & 0 & 0 & 1 & -1 & 1\\end{matrix}\\right]$"
      ],
      "text/plain": [
       "⎡1  2  0  2  1  1   0   0⎤\n",
       "⎢                        ⎥\n",
       "⎢0  0  1  3  3  -3  1   0⎥\n",
       "⎢                        ⎥\n",
       "⎣0  0  0  0  0  1   -1  1⎦"
      ]
     },
     "metadata": {},
     "output_type": "display_data"
    }
   ],
   "source": [
    "R[2,:] = R[2,:] - R[1,:]\n",
    "display(R)"
   ]
  },
  {
   "cell_type": "markdown",
   "id": "48dcc5bc",
   "metadata": {},
   "source": [
    "This is already in RREF form and no further reduction is required"
   ]
  },
  {
   "cell_type": "markdown",
   "id": "9f729ced",
   "metadata": {},
   "source": [
    "### Row Space , $C(A^T)$\n",
    "\n",
    "Non zero rows of R forms the basis\n",
    "\n",
    "Basis of $C(A^T)$ = "
   ]
  },
  {
   "cell_type": "code",
   "execution_count": null,
   "id": "f00357a4",
   "metadata": {},
   "outputs": [
    {
     "data": {
      "text/markdown": [
       "**ROW SPACE C(A^T) BASIS**"
      ],
      "text/plain": [
       "<IPython.core.display.Markdown object>"
      ]
     },
     "metadata": {},
     "output_type": "display_data"
    },
    {
     "data": {
      "text/markdown": [
       "**Basis vectors:**"
      ],
      "text/plain": [
       "<IPython.core.display.Markdown object>"
      ]
     },
     "metadata": {},
     "output_type": "display_data"
    },
    {
     "data": {
      "text/latex": [
       "$\\displaystyle \\left[\\begin{matrix}1 & 0\\\\2 & 0\\\\0 & 1\\\\2 & 3\\\\1 & 3\\end{matrix}\\right]$"
      ],
      "text/plain": [
       "⎡1  0⎤\n",
       "⎢    ⎥\n",
       "⎢2  0⎥\n",
       "⎢    ⎥\n",
       "⎢0  1⎥\n",
       "⎢    ⎥\n",
       "⎢2  3⎥\n",
       "⎢    ⎥\n",
       "⎣1  3⎦"
      ]
     },
     "metadata": {},
     "output_type": "display_data"
    },
    {
     "data": {
      "text/markdown": [
       "**Dimension:** 2"
      ],
      "text/plain": [
       "<IPython.core.display.Markdown object>"
      ]
     },
     "metadata": {},
     "output_type": "display_data"
    }
   ],
   "source": [
    "rb1 = R[0,:-A.rows]\n",
    "rb2 = R[1,:-A.rows]\n",
    "\n",
    "# Print row space basis using the reusable function\n",
    "print_basis(\"ROW SPACE C(A^T) BASIS\", [rb1, rb2], 2)"
   ]
  },
  {
   "cell_type": "markdown",
   "id": "0582a43c",
   "metadata": {},
   "source": [
    "### Column Space  $C(A)$\n",
    "Identify the columns in the RREF matrix, R, that contain the pivots. The basis consists of the corresponding columns from the original matrix, A."
   ]
  },
  {
   "cell_type": "code",
   "execution_count": null,
   "id": "fc9d01ee",
   "metadata": {},
   "outputs": [
    {
     "data": {
      "text/markdown": [
       "**COLUMN SPACE C(A) BASIS**"
      ],
      "text/plain": [
       "<IPython.core.display.Markdown object>"
      ]
     },
     "metadata": {},
     "output_type": "display_data"
    },
    {
     "data": {
      "text/markdown": [
       "**Pivot columns:** [0, 2]"
      ],
      "text/plain": [
       "<IPython.core.display.Markdown object>"
      ]
     },
     "metadata": {},
     "output_type": "display_data"
    },
    {
     "data": {
      "text/markdown": [
       "**Basis vectors:**"
      ],
      "text/plain": [
       "<IPython.core.display.Markdown object>"
      ]
     },
     "metadata": {},
     "output_type": "display_data"
    },
    {
     "data": {
      "text/latex": [
       "$\\displaystyle \\left[\\begin{matrix}1 & 0\\\\3 & 1\\\\2 & 1\\end{matrix}\\right]$"
      ],
      "text/plain": [
       "⎡1  0⎤\n",
       "⎢    ⎥\n",
       "⎢3  1⎥\n",
       "⎢    ⎥\n",
       "⎣2  1⎦"
      ]
     },
     "metadata": {},
     "output_type": "display_data"
    },
    {
     "data": {
      "text/markdown": [
       "**Dimension:** 2"
      ],
      "text/plain": [
       "<IPython.core.display.Markdown object>"
      ]
     },
     "metadata": {},
     "output_type": "display_data"
    }
   ],
   "source": [
    "pidx = [0,2] # pivot columns\n",
    "cb1 = A[:,pidx[0]]\n",
    "cb2 = A[:,pidx[1]]\n",
    "\n",
    "# Print column space basis using the reusable function\n",
    "print_basis(\"COLUMN SPACE C(A) BASIS\", [cb1, cb2], len(pidx), \n",
    "           extra_info={\"Pivot columns\": pidx})"
   ]
  },
  {
   "cell_type": "markdown",
   "id": "22718e06",
   "metadata": {},
   "source": [
    "### Null Space $N(A)$\n",
    "\n",
    "This is the solution to $Ax = 0$, which can be found by solving $Rx = 0$. We can find free variables from RREF and express the solution in terms of that"
   ]
  },
  {
   "cell_type": "code",
   "execution_count": null,
   "id": "75af2307",
   "metadata": {},
   "outputs": [
    {
     "data": {
      "text/markdown": [
       "**NULL SPACE N(A) BASIS**"
      ],
      "text/plain": [
       "<IPython.core.display.Markdown object>"
      ]
     },
     "metadata": {},
     "output_type": "display_data"
    },
    {
     "data": {
      "text/markdown": [
       "**Free variable columns:** [1, 3, 4]"
      ],
      "text/plain": [
       "<IPython.core.display.Markdown object>"
      ]
     },
     "metadata": {},
     "output_type": "display_data"
    },
    {
     "data": {
      "text/markdown": [
       "**Pivot columns:** [0, 2]"
      ],
      "text/plain": [
       "<IPython.core.display.Markdown object>"
      ]
     },
     "metadata": {},
     "output_type": "display_data"
    },
    {
     "data": {
      "text/markdown": [
       "**Basis vectors:**"
      ],
      "text/plain": [
       "<IPython.core.display.Markdown object>"
      ]
     },
     "metadata": {},
     "output_type": "display_data"
    },
    {
     "data": {
      "text/latex": [
       "$\\displaystyle \\left[\\begin{matrix}-2 & -2 & -1\\\\1 & 0 & 0\\\\0 & -3 & -3\\\\0 & 1 & 0\\\\0 & 0 & 1\\end{matrix}\\right]$"
      ],
      "text/plain": [
       "⎡-2  -2  -1⎤\n",
       "⎢          ⎥\n",
       "⎢1   0   0 ⎥\n",
       "⎢          ⎥\n",
       "⎢0   -3  -3⎥\n",
       "⎢          ⎥\n",
       "⎢0   1   0 ⎥\n",
       "⎢          ⎥\n",
       "⎣0   0   1 ⎦"
      ]
     },
     "metadata": {},
     "output_type": "display_data"
    },
    {
     "data": {
      "text/markdown": [
       "**Dimension:** 3"
      ],
      "text/plain": [
       "<IPython.core.display.Markdown object>"
      ]
     },
     "metadata": {},
     "output_type": "display_data"
    }
   ],
   "source": [
    "fidx = [1,3,4] # free columns\n",
    "\n",
    "nb1 = sp.zeros(A.cols, len(fidx)) # null space basis vectors\n",
    "for idx in range(len(fidx)):\n",
    "    nb1[fidx[idx], idx] = 1  # Set free variable to 1\n",
    "    nb1[pidx[0], idx] = -rb1[fidx[idx]]  # Set pivot variable based on first pivot row\n",
    "    nb1[pidx[1], idx] = -rb2[fidx[idx]]  # Set pivot variable based on second pivot row\n",
    "\n",
    "# Print null space basis using the reusable function\n",
    "null_vectors = [nb1[:,i] for i in range(len(fidx))]\n",
    "print_basis(\"NULL SPACE N(A) BASIS\", null_vectors, len(fidx),\n",
    "           extra_info={\"Free variable columns\": fidx, \"Pivot columns\": pidx})"
   ]
  },
  {
   "cell_type": "markdown",
   "id": "bdff2cd9",
   "metadata": {},
   "source": [
    "### Left Null Space $N(A^T)$\n",
    "\n",
    "This can be easily found from the augmented part of RREF by taking the rows corresponding to zero rows in RREF"
   ]
  },
  {
   "cell_type": "code",
   "execution_count": null,
   "id": "c3b71a42",
   "metadata": {},
   "outputs": [
    {
     "data": {
      "text/markdown": [
       "**LEFT NULL SPACE N(A^T) BASIS**"
      ],
      "text/plain": [
       "<IPython.core.display.Markdown object>"
      ]
     },
     "metadata": {},
     "output_type": "display_data"
    },
    {
     "data": {
      "text/markdown": [
       "**Source:** Zero row in RREF"
      ],
      "text/plain": [
       "<IPython.core.display.Markdown object>"
      ]
     },
     "metadata": {},
     "output_type": "display_data"
    },
    {
     "data": {
      "text/markdown": [
       "**Basis vectors:**"
      ],
      "text/plain": [
       "<IPython.core.display.Markdown object>"
      ]
     },
     "metadata": {},
     "output_type": "display_data"
    },
    {
     "data": {
      "text/latex": [
       "$\\displaystyle \\left[\\begin{matrix}1\\\\-1\\\\1\\end{matrix}\\right]$"
      ],
      "text/plain": [
       "⎡1 ⎤\n",
       "⎢  ⎥\n",
       "⎢-1⎥\n",
       "⎢  ⎥\n",
       "⎣1 ⎦"
      ]
     },
     "metadata": {},
     "output_type": "display_data"
    },
    {
     "data": {
      "text/markdown": [
       "**Dimension:** 1"
      ],
      "text/plain": [
       "<IPython.core.display.Markdown object>"
      ]
     },
     "metadata": {},
     "output_type": "display_data"
    }
   ],
   "source": [
    "lnb1 = R[2, -A.rows:]\n",
    "\n",
    "# Print left null space basis using the reusable function\n",
    "print_basis(\"LEFT NULL SPACE N(A^T) BASIS\", [lnb1], 1,\n",
    "           extra_info={\"Source\": \"Zero row in RREF\"})"
   ]
  },
  {
   "cell_type": "markdown",
   "id": "92d8a445",
   "metadata": {},
   "source": [
    "## Using SymPy Built-in Methods\n",
    "\n",
    "We can also solve this problem directly using SymPy's built-in methods for a quick verification:"
   ]
  },
  {
   "cell_type": "code",
   "execution_count": null,
   "id": "24d5f74a",
   "metadata": {},
   "outputs": [
    {
     "data": {
      "text/markdown": [
       "**ROW SPACE C(A^T) BASIS (SymPy)**"
      ],
      "text/plain": [
       "<IPython.core.display.Markdown object>"
      ]
     },
     "metadata": {},
     "output_type": "display_data"
    },
    {
     "data": {
      "text/markdown": [
       "**Pivot columns:** [0, 2]"
      ],
      "text/plain": [
       "<IPython.core.display.Markdown object>"
      ]
     },
     "metadata": {},
     "output_type": "display_data"
    },
    {
     "data": {
      "text/markdown": [
       "**Basis vectors:**"
      ],
      "text/plain": [
       "<IPython.core.display.Markdown object>"
      ]
     },
     "metadata": {},
     "output_type": "display_data"
    },
    {
     "data": {
      "text/latex": [
       "$\\displaystyle \\left[\\begin{matrix}1 & 0\\\\2 & 0\\\\0 & 1\\\\2 & 3\\\\1 & 3\\end{matrix}\\right]$"
      ],
      "text/plain": [
       "⎡1  0⎤\n",
       "⎢    ⎥\n",
       "⎢2  0⎥\n",
       "⎢    ⎥\n",
       "⎢0  1⎥\n",
       "⎢    ⎥\n",
       "⎢2  3⎥\n",
       "⎢    ⎥\n",
       "⎣1  3⎦"
      ]
     },
     "metadata": {},
     "output_type": "display_data"
    },
    {
     "data": {
      "text/markdown": [
       "**Dimension:** 2"
      ],
      "text/plain": [
       "<IPython.core.display.Markdown object>"
      ]
     },
     "metadata": {},
     "output_type": "display_data"
    },
    {
     "data": {
      "text/markdown": [
       "**COLUMN SPACE C(A) BASIS (SymPy)**"
      ],
      "text/plain": [
       "<IPython.core.display.Markdown object>"
      ]
     },
     "metadata": {},
     "output_type": "display_data"
    },
    {
     "data": {
      "text/markdown": [
       "**Pivot columns:** [0, 2]"
      ],
      "text/plain": [
       "<IPython.core.display.Markdown object>"
      ]
     },
     "metadata": {},
     "output_type": "display_data"
    },
    {
     "data": {
      "text/markdown": [
       "**Basis vectors:**"
      ],
      "text/plain": [
       "<IPython.core.display.Markdown object>"
      ]
     },
     "metadata": {},
     "output_type": "display_data"
    },
    {
     "data": {
      "text/latex": [
       "$\\displaystyle \\left[\\begin{matrix}1 & 0\\\\3 & 1\\\\2 & 1\\end{matrix}\\right]$"
      ],
      "text/plain": [
       "⎡1  0⎤\n",
       "⎢    ⎥\n",
       "⎢3  1⎥\n",
       "⎢    ⎥\n",
       "⎣2  1⎦"
      ]
     },
     "metadata": {},
     "output_type": "display_data"
    },
    {
     "data": {
      "text/markdown": [
       "**Dimension:** 2"
      ],
      "text/plain": [
       "<IPython.core.display.Markdown object>"
      ]
     },
     "metadata": {},
     "output_type": "display_data"
    },
    {
     "data": {
      "text/markdown": [
       "**NULL SPACE N(A) BASIS (SymPy)**"
      ],
      "text/plain": [
       "<IPython.core.display.Markdown object>"
      ]
     },
     "metadata": {},
     "output_type": "display_data"
    },
    {
     "data": {
      "text/markdown": [
       "**Free variables:** 3 variables"
      ],
      "text/plain": [
       "<IPython.core.display.Markdown object>"
      ]
     },
     "metadata": {},
     "output_type": "display_data"
    },
    {
     "data": {
      "text/markdown": [
       "**Basis vectors:**"
      ],
      "text/plain": [
       "<IPython.core.display.Markdown object>"
      ]
     },
     "metadata": {},
     "output_type": "display_data"
    },
    {
     "data": {
      "text/latex": [
       "$\\displaystyle \\left[\\begin{matrix}-2 & -2 & -1\\\\1 & 0 & 0\\\\0 & -3 & -3\\\\0 & 1 & 0\\\\0 & 0 & 1\\end{matrix}\\right]$"
      ],
      "text/plain": [
       "⎡-2  -2  -1⎤\n",
       "⎢          ⎥\n",
       "⎢1   0   0 ⎥\n",
       "⎢          ⎥\n",
       "⎢0   -3  -3⎥\n",
       "⎢          ⎥\n",
       "⎢0   1   0 ⎥\n",
       "⎢          ⎥\n",
       "⎣0   0   1 ⎦"
      ]
     },
     "metadata": {},
     "output_type": "display_data"
    },
    {
     "data": {
      "text/markdown": [
       "**Dimension:** 3"
      ],
      "text/plain": [
       "<IPython.core.display.Markdown object>"
      ]
     },
     "metadata": {},
     "output_type": "display_data"
    },
    {
     "data": {
      "text/markdown": [
       "**LEFT NULL SPACE N(A^T) BASIS (SymPy)**"
      ],
      "text/plain": [
       "<IPython.core.display.Markdown object>"
      ]
     },
     "metadata": {},
     "output_type": "display_data"
    },
    {
     "data": {
      "text/markdown": [
       "**Verification:** Null space of transpose"
      ],
      "text/plain": [
       "<IPython.core.display.Markdown object>"
      ]
     },
     "metadata": {},
     "output_type": "display_data"
    },
    {
     "data": {
      "text/markdown": [
       "**Basis vectors:**"
      ],
      "text/plain": [
       "<IPython.core.display.Markdown object>"
      ]
     },
     "metadata": {},
     "output_type": "display_data"
    },
    {
     "data": {
      "text/latex": [
       "$\\displaystyle \\left[\\begin{matrix}1\\\\-1\\\\1\\end{matrix}\\right]$"
      ],
      "text/plain": [
       "⎡1 ⎤\n",
       "⎢  ⎥\n",
       "⎢-1⎥\n",
       "⎢  ⎥\n",
       "⎣1 ⎦"
      ]
     },
     "metadata": {},
     "output_type": "display_data"
    },
    {
     "data": {
      "text/markdown": [
       "**Dimension:** 1"
      ],
      "text/plain": [
       "<IPython.core.display.Markdown object>"
      ]
     },
     "metadata": {},
     "output_type": "display_data"
    }
   ],
   "source": [
    "# Using SymPy built-in methods for verification\n",
    "\n",
    "# Get RREF and pivot columns\n",
    "rref_matrix, pivots = A.rref()\n",
    "\n",
    "# Get row space basis: non-zero rows of RREF\n",
    "row_space_vectors = []\n",
    "for i in range(rref_matrix.rows):\n",
    "    row = rref_matrix.row(i)\n",
    "    if not row.equals(sp.zeros(1, rref_matrix.cols)):\n",
    "        row_space_vectors.append(row)\n",
    "\n",
    "# Get column space basis: columns of A corresponding to pivot columns\n",
    "col_space_vectors = [A.col(i) for i in pivots]\n",
    "\n",
    "# Get null space basis using SymPy's built-in method\n",
    "null_space_vectors = A.nullspace()\n",
    "\n",
    "# Get left null space basis: null space of A transpose\n",
    "left_null_space_vectors = A.T.nullspace()\n",
    "\n",
    "\n",
    "# --- Display Results using the existing print_basis function ---\n",
    "\n",
    "\n",
    "# Use the existing print_basis function for consistent formatting\n",
    "print_basis(\"ROW SPACE C(A^T) BASIS (SymPy)\", row_space_vectors, len(row_space_vectors),\n",
    "           extra_info={\"Pivot columns\": list(pivots)})\n",
    "\n",
    "print_basis(\"COLUMN SPACE C(A) BASIS (SymPy)\", col_space_vectors, len(col_space_vectors),\n",
    "           extra_info={\"Pivot columns\": list(pivots)})\n",
    "\n",
    "print_basis(\"NULL SPACE N(A) BASIS (SymPy)\", null_space_vectors, len(null_space_vectors),\n",
    "           extra_info={\"Free variables\": f\"{A.cols - len(pivots)} variables\"})\n",
    "\n",
    "print_basis(\"LEFT NULL SPACE N(A^T) BASIS (SymPy)\", left_null_space_vectors, len(left_null_space_vectors),\n",
    "           extra_info={\"Verification\": \"Null space of transpose\"})"
   ]
  },
  {
   "cell_type": "markdown",
   "id": "f52dd29c",
   "metadata": {},
   "source": [
    "## Using SVD"
   ]
  },
  {
   "cell_type": "code",
   "execution_count": null,
   "id": "7cca1ff0",
   "metadata": {},
   "outputs": [
    {
     "data": {
      "text/markdown": [
       "**U matrix:**"
      ],
      "text/plain": [
       "<IPython.core.display.Markdown object>"
      ]
     },
     "metadata": {},
     "output_type": "display_data"
    },
    {
     "data": {
      "text/latex": [
       "$\\displaystyle \\left[\\begin{matrix}\\frac{- \\frac{\\sqrt{61}}{9} - \\frac{5}{9}}{\\sqrt{\\left(- \\frac{4}{9} + \\frac{\\sqrt{61}}{9}\\right)^{2} + 1 + \\left(\\frac{5}{9} + \\frac{\\sqrt{61}}{9}\\right)^{2}}} & \\frac{- \\frac{5}{9} + \\frac{\\sqrt{61}}{9}}{\\sqrt{\\left(- \\frac{5}{9} + \\frac{\\sqrt{61}}{9}\\right)^{2} + 1 + \\left(\\frac{4}{9} + \\frac{\\sqrt{61}}{9}\\right)^{2}}}\\\\\\frac{\\frac{4}{9} - \\frac{\\sqrt{61}}{9}}{\\sqrt{\\left(- \\frac{4}{9} + \\frac{\\sqrt{61}}{9}\\right)^{2} + 1 + \\left(\\frac{5}{9} + \\frac{\\sqrt{61}}{9}\\right)^{2}}} & \\frac{\\frac{4}{9} + \\frac{\\sqrt{61}}{9}}{\\sqrt{\\left(- \\frac{5}{9} + \\frac{\\sqrt{61}}{9}\\right)^{2} + 1 + \\left(\\frac{4}{9} + \\frac{\\sqrt{61}}{9}\\right)^{2}}}\\\\\\frac{1}{\\sqrt{\\left(- \\frac{4}{9} + \\frac{\\sqrt{61}}{9}\\right)^{2} + 1 + \\left(\\frac{5}{9} + \\frac{\\sqrt{61}}{9}\\right)^{2}}} & \\frac{1}{\\sqrt{\\left(- \\frac{5}{9} + \\frac{\\sqrt{61}}{9}\\right)^{2} + 1 + \\left(\\frac{4}{9} + \\frac{\\sqrt{61}}{9}\\right)^{2}}}\\end{matrix}\\right]$"
      ],
      "text/plain": [
       "⎡               √61   5                               5   √61              ⎤\n",
       "⎢             - ─── - ─                             - ─ + ───              ⎥\n",
       "⎢                9    9                               9    9               ⎥\n",
       "⎢────────────────────────────────────  ────────────────────────────────────⎥\n",
       "⎢     _______________________________       _______________________________⎥\n",
       "⎢    ╱            2                2       ╱            2                2 ⎥\n",
       "⎢   ╱  ⎛  4   √61⎞        ⎛5   √61⎞       ╱  ⎛  5   √61⎞        ⎛4   √61⎞  ⎥\n",
       "⎢  ╱   ⎜- ─ + ───⎟  + 1 + ⎜─ + ───⎟      ╱   ⎜- ─ + ───⎟  + 1 + ⎜─ + ───⎟  ⎥\n",
       "⎢╲╱    ⎝  9    9 ⎠        ⎝9    9 ⎠    ╲╱    ⎝  9    9 ⎠        ⎝9    9 ⎠  ⎥\n",
       "⎢                                                                          ⎥\n",
       "⎢              4   √61                               4   √61               ⎥\n",
       "⎢              ─ - ───                               ─ + ───               ⎥\n",
       "⎢              9    9                                9    9                ⎥\n",
       "⎢────────────────────────────────────  ────────────────────────────────────⎥\n",
       "⎢     _______________________________       _______________________________⎥\n",
       "⎢    ╱            2                2       ╱            2                2 ⎥\n",
       "⎢   ╱  ⎛  4   √61⎞        ⎛5   √61⎞       ╱  ⎛  5   √61⎞        ⎛4   √61⎞  ⎥\n",
       "⎢  ╱   ⎜- ─ + ───⎟  + 1 + ⎜─ + ───⎟      ╱   ⎜- ─ + ───⎟  + 1 + ⎜─ + ───⎟  ⎥\n",
       "⎢╲╱    ⎝  9    9 ⎠        ⎝9    9 ⎠    ╲╱    ⎝  9    9 ⎠        ⎝9    9 ⎠  ⎥\n",
       "⎢                                                                          ⎥\n",
       "⎢                 1                                     1                  ⎥\n",
       "⎢────────────────────────────────────  ────────────────────────────────────⎥\n",
       "⎢     _______________________________       _______________________________⎥\n",
       "⎢    ╱            2                2       ╱            2                2 ⎥\n",
       "⎢   ╱  ⎛  4   √61⎞        ⎛5   √61⎞       ╱  ⎛  5   √61⎞        ⎛4   √61⎞  ⎥\n",
       "⎢  ╱   ⎜- ─ + ───⎟  + 1 + ⎜─ + ───⎟      ╱   ⎜- ─ + ───⎟  + 1 + ⎜─ + ───⎟  ⎥\n",
       "⎣╲╱    ⎝  9    9 ⎠        ⎝9    9 ⎠    ╲╱    ⎝  9    9 ⎠        ⎝9    9 ⎠  ⎦"
      ]
     },
     "metadata": {},
     "output_type": "display_data"
    },
    {
     "data": {
      "text/markdown": [
       "**Singular values (diagonal of Σ):**"
      ],
      "text/plain": [
       "<IPython.core.display.Markdown object>"
      ]
     },
     "metadata": {},
     "output_type": "display_data"
    },
    {
     "data": {
      "text/markdown": [
       "σ = [sqrt(134 - 17*sqrt(61)), 0, 0, sqrt(17*sqrt(61) + 134)]"
      ],
      "text/plain": [
       "<IPython.core.display.Markdown object>"
      ]
     },
     "metadata": {},
     "output_type": "display_data"
    },
    {
     "data": {
      "text/markdown": [
       "**V matrix:**"
      ],
      "text/plain": [
       "<IPython.core.display.Markdown object>"
      ]
     },
     "metadata": {},
     "output_type": "display_data"
    },
    {
     "data": {
      "text/latex": [
       "$\\displaystyle \\left[\\begin{matrix}\\frac{\\frac{- \\frac{\\sqrt{61}}{9} - \\frac{5}{9}}{\\sqrt{\\left(- \\frac{4}{9} + \\frac{\\sqrt{61}}{9}\\right)^{2} + 1 + \\left(\\frac{5}{9} + \\frac{\\sqrt{61}}{9}\\right)^{2}}} + \\frac{3 \\left(\\frac{4}{9} - \\frac{\\sqrt{61}}{9}\\right)}{\\sqrt{\\left(- \\frac{4}{9} + \\frac{\\sqrt{61}}{9}\\right)^{2} + 1 + \\left(\\frac{5}{9} + \\frac{\\sqrt{61}}{9}\\right)^{2}}} + \\frac{2}{\\sqrt{\\left(- \\frac{4}{9} + \\frac{\\sqrt{61}}{9}\\right)^{2} + 1 + \\left(\\frac{5}{9} + \\frac{\\sqrt{61}}{9}\\right)^{2}}}}{\\sqrt{134 - 17 \\sqrt{61}}} & \\frac{\\frac{- \\frac{5}{9} + \\frac{\\sqrt{61}}{9}}{\\sqrt{\\left(- \\frac{5}{9} + \\frac{\\sqrt{61}}{9}\\right)^{2} + 1 + \\left(\\frac{4}{9} + \\frac{\\sqrt{61}}{9}\\right)^{2}}} + \\frac{2}{\\sqrt{\\left(- \\frac{5}{9} + \\frac{\\sqrt{61}}{9}\\right)^{2} + 1 + \\left(\\frac{4}{9} + \\frac{\\sqrt{61}}{9}\\right)^{2}}} + \\frac{3 \\left(\\frac{4}{9} + \\frac{\\sqrt{61}}{9}\\right)}{\\sqrt{\\left(- \\frac{5}{9} + \\frac{\\sqrt{61}}{9}\\right)^{2} + 1 + \\left(\\frac{4}{9} + \\frac{\\sqrt{61}}{9}\\right)^{2}}}}{\\sqrt{17 \\sqrt{61} + 134}}\\\\\\frac{\\frac{2 \\left(- \\frac{\\sqrt{61}}{9} - \\frac{5}{9}\\right)}{\\sqrt{\\left(- \\frac{4}{9} + \\frac{\\sqrt{61}}{9}\\right)^{2} + 1 + \\left(\\frac{5}{9} + \\frac{\\sqrt{61}}{9}\\right)^{2}}} + \\frac{6 \\left(\\frac{4}{9} - \\frac{\\sqrt{61}}{9}\\right)}{\\sqrt{\\left(- \\frac{4}{9} + \\frac{\\sqrt{61}}{9}\\right)^{2} + 1 + \\left(\\frac{5}{9} + \\frac{\\sqrt{61}}{9}\\right)^{2}}} + \\frac{4}{\\sqrt{\\left(- \\frac{4}{9} + \\frac{\\sqrt{61}}{9}\\right)^{2} + 1 + \\left(\\frac{5}{9} + \\frac{\\sqrt{61}}{9}\\right)^{2}}}}{\\sqrt{134 - 17 \\sqrt{61}}} & \\frac{\\frac{2 \\left(- \\frac{5}{9} + \\frac{\\sqrt{61}}{9}\\right)}{\\sqrt{\\left(- \\frac{5}{9} + \\frac{\\sqrt{61}}{9}\\right)^{2} + 1 + \\left(\\frac{4}{9} + \\frac{\\sqrt{61}}{9}\\right)^{2}}} + \\frac{4}{\\sqrt{\\left(- \\frac{5}{9} + \\frac{\\sqrt{61}}{9}\\right)^{2} + 1 + \\left(\\frac{4}{9} + \\frac{\\sqrt{61}}{9}\\right)^{2}}} + \\frac{6 \\left(\\frac{4}{9} + \\frac{\\sqrt{61}}{9}\\right)}{\\sqrt{\\left(- \\frac{5}{9} + \\frac{\\sqrt{61}}{9}\\right)^{2} + 1 + \\left(\\frac{4}{9} + \\frac{\\sqrt{61}}{9}\\right)^{2}}}}{\\sqrt{17 \\sqrt{61} + 134}}\\\\\\frac{\\frac{\\frac{4}{9} - \\frac{\\sqrt{61}}{9}}{\\sqrt{\\left(- \\frac{4}{9} + \\frac{\\sqrt{61}}{9}\\right)^{2} + 1 + \\left(\\frac{5}{9} + \\frac{\\sqrt{61}}{9}\\right)^{2}}} + \\frac{1}{\\sqrt{\\left(- \\frac{4}{9} + \\frac{\\sqrt{61}}{9}\\right)^{2} + 1 + \\left(\\frac{5}{9} + \\frac{\\sqrt{61}}{9}\\right)^{2}}}}{\\sqrt{134 - 17 \\sqrt{61}}} & \\frac{\\frac{1}{\\sqrt{\\left(- \\frac{5}{9} + \\frac{\\sqrt{61}}{9}\\right)^{2} + 1 + \\left(\\frac{4}{9} + \\frac{\\sqrt{61}}{9}\\right)^{2}}} + \\frac{\\frac{4}{9} + \\frac{\\sqrt{61}}{9}}{\\sqrt{\\left(- \\frac{5}{9} + \\frac{\\sqrt{61}}{9}\\right)^{2} + 1 + \\left(\\frac{4}{9} + \\frac{\\sqrt{61}}{9}\\right)^{2}}}}{\\sqrt{17 \\sqrt{61} + 134}}\\\\\\frac{\\frac{9 \\left(\\frac{4}{9} - \\frac{\\sqrt{61}}{9}\\right)}{\\sqrt{\\left(- \\frac{4}{9} + \\frac{\\sqrt{61}}{9}\\right)^{2} + 1 + \\left(\\frac{5}{9} + \\frac{\\sqrt{61}}{9}\\right)^{2}}} + \\frac{2 \\left(- \\frac{\\sqrt{61}}{9} - \\frac{5}{9}\\right)}{\\sqrt{\\left(- \\frac{4}{9} + \\frac{\\sqrt{61}}{9}\\right)^{2} + 1 + \\left(\\frac{5}{9} + \\frac{\\sqrt{61}}{9}\\right)^{2}}} + \\frac{7}{\\sqrt{\\left(- \\frac{4}{9} + \\frac{\\sqrt{61}}{9}\\right)^{2} + 1 + \\left(\\frac{5}{9} + \\frac{\\sqrt{61}}{9}\\right)^{2}}}}{\\sqrt{134 - 17 \\sqrt{61}}} & \\frac{\\frac{2 \\left(- \\frac{5}{9} + \\frac{\\sqrt{61}}{9}\\right)}{\\sqrt{\\left(- \\frac{5}{9} + \\frac{\\sqrt{61}}{9}\\right)^{2} + 1 + \\left(\\frac{4}{9} + \\frac{\\sqrt{61}}{9}\\right)^{2}}} + \\frac{7}{\\sqrt{\\left(- \\frac{5}{9} + \\frac{\\sqrt{61}}{9}\\right)^{2} + 1 + \\left(\\frac{4}{9} + \\frac{\\sqrt{61}}{9}\\right)^{2}}} + \\frac{9 \\left(\\frac{4}{9} + \\frac{\\sqrt{61}}{9}\\right)}{\\sqrt{\\left(- \\frac{5}{9} + \\frac{\\sqrt{61}}{9}\\right)^{2} + 1 + \\left(\\frac{4}{9} + \\frac{\\sqrt{61}}{9}\\right)^{2}}}}{\\sqrt{17 \\sqrt{61} + 134}}\\\\\\frac{\\frac{6 \\left(\\frac{4}{9} - \\frac{\\sqrt{61}}{9}\\right)}{\\sqrt{\\left(- \\frac{4}{9} + \\frac{\\sqrt{61}}{9}\\right)^{2} + 1 + \\left(\\frac{5}{9} + \\frac{\\sqrt{61}}{9}\\right)^{2}}} + \\frac{- \\frac{\\sqrt{61}}{9} - \\frac{5}{9}}{\\sqrt{\\left(- \\frac{4}{9} + \\frac{\\sqrt{61}}{9}\\right)^{2} + 1 + \\left(\\frac{5}{9} + \\frac{\\sqrt{61}}{9}\\right)^{2}}} + \\frac{5}{\\sqrt{\\left(- \\frac{4}{9} + \\frac{\\sqrt{61}}{9}\\right)^{2} + 1 + \\left(\\frac{5}{9} + \\frac{\\sqrt{61}}{9}\\right)^{2}}}}{\\sqrt{134 - 17 \\sqrt{61}}} & \\frac{\\frac{- \\frac{5}{9} + \\frac{\\sqrt{61}}{9}}{\\sqrt{\\left(- \\frac{5}{9} + \\frac{\\sqrt{61}}{9}\\right)^{2} + 1 + \\left(\\frac{4}{9} + \\frac{\\sqrt{61}}{9}\\right)^{2}}} + \\frac{5}{\\sqrt{\\left(- \\frac{5}{9} + \\frac{\\sqrt{61}}{9}\\right)^{2} + 1 + \\left(\\frac{4}{9} + \\frac{\\sqrt{61}}{9}\\right)^{2}}} + \\frac{6 \\left(\\frac{4}{9} + \\frac{\\sqrt{61}}{9}\\right)}{\\sqrt{\\left(- \\frac{5}{9} + \\frac{\\sqrt{61}}{9}\\right)^{2} + 1 + \\left(\\frac{4}{9} + \\frac{\\sqrt{61}}{9}\\right)^{2}}}}{\\sqrt{17 \\sqrt{61} + 134}}\\end{matrix}\\right]$"
      ],
      "text/plain": [
       "⎡               √61   5                               ⎛4   √61⎞                ↪\n",
       "⎢             - ─── - ─                             3⋅⎜─ - ───⎟                ↪\n",
       "⎢                9    9                               ⎝9    9 ⎠                ↪\n",
       "⎢──────────────────────────────────── + ──────────────────────────────────── + ↪\n",
       "⎢     _______________________________        _______________________________   ↪\n",
       "⎢    ╱            2                2        ╱            2                2    ↪\n",
       "⎢   ╱  ⎛  4   √61⎞        ⎛5   √61⎞        ╱  ⎛  4   √61⎞        ⎛5   √61⎞     ↪\n",
       "⎢  ╱   ⎜- ─ + ───⎟  + 1 + ⎜─ + ───⎟       ╱   ⎜- ─ + ───⎟  + 1 + ⎜─ + ───⎟     ↪\n",
       "⎢╲╱    ⎝  9    9 ⎠        ⎝9    9 ⎠     ╲╱    ⎝  9    9 ⎠        ⎝9    9 ⎠     ↪\n",
       "⎢───────────────────────────────────────────────────────────────────────────── ↪\n",
       "⎢                                                   ______________             ↪\n",
       "⎢                                                 ╲╱ 134 - 17⋅√61              ↪\n",
       "⎢                                                                              ↪\n",
       "⎢             ⎛  √61   5⎞                             ⎛4   √61⎞                ↪\n",
       "⎢           2⋅⎜- ─── - ─⎟                           6⋅⎜─ - ───⎟                ↪\n",
       "⎢             ⎝   9    9⎠                             ⎝9    9 ⎠                ↪\n",
       "⎢──────────────────────────────────── + ──────────────────────────────────── + ↪\n",
       "⎢     _______________________________        _______________________________   ↪\n",
       "⎢    ╱            2                2        ╱            2                2    ↪\n",
       "⎢   ╱  ⎛  4   √61⎞        ⎛5   √61⎞        ╱  ⎛  4   √61⎞        ⎛5   √61⎞     ↪\n",
       "⎢  ╱   ⎜- ─ + ───⎟  + 1 + ⎜─ + ───⎟       ╱   ⎜- ─ + ───⎟  + 1 + ⎜─ + ───⎟     ↪\n",
       "⎢╲╱    ⎝  9    9 ⎠        ⎝9    9 ⎠     ╲╱    ⎝  9    9 ⎠        ⎝9    9 ⎠     ↪\n",
       "⎢───────────────────────────────────────────────────────────────────────────── ↪\n",
       "⎢                                                   ______________             ↪\n",
       "⎢                                                 ╲╱ 134 - 17⋅√61              ↪\n",
       "⎢                                                                              ↪\n",
       "⎢                                 4   √61                                      ↪\n",
       "⎢                                 ─ - ───                                      ↪\n",
       "⎢                                 9    9                                    1  ↪\n",
       "⎢                   ──────────────────────────────────── + ─────────────────── ↪\n",
       "⎢                        _______________________________        ______________ ↪\n",
       "⎢                       ╱            2                2        ╱            2  ↪\n",
       "⎢                      ╱  ⎛  4   √61⎞        ⎛5   √61⎞        ╱  ⎛  4   √61⎞   ↪\n",
       "⎢                     ╱   ⎜- ─ + ───⎟  + 1 + ⎜─ + ───⎟       ╱   ⎜- ─ + ───⎟   ↪\n",
       "⎢                   ╲╱    ⎝  9    9 ⎠        ⎝9    9 ⎠     ╲╱    ⎝  9    9 ⎠   ↪\n",
       "⎢                   ────────────────────────────────────────────────────────── ↪\n",
       "⎢                                                  ______________              ↪\n",
       "⎢                                                ╲╱ 134 - 17⋅√61               ↪\n",
       "⎢                                                                              ↪\n",
       "⎢              ⎛4   √61⎞                             ⎛  √61   5⎞               ↪\n",
       "⎢            9⋅⎜─ - ───⎟                           2⋅⎜- ─── - ─⎟               ↪\n",
       "⎢              ⎝9    9 ⎠                             ⎝   9    9⎠               ↪\n",
       "⎢──────────────────────────────────── + ──────────────────────────────────── + ↪\n",
       "⎢     _______________________________        _______________________________   ↪\n",
       "⎢    ╱            2                2        ╱            2                2    ↪\n",
       "⎢   ╱  ⎛  4   √61⎞        ⎛5   √61⎞        ╱  ⎛  4   √61⎞        ⎛5   √61⎞     ↪\n",
       "⎢  ╱   ⎜- ─ + ───⎟  + 1 + ⎜─ + ───⎟       ╱   ⎜- ─ + ───⎟  + 1 + ⎜─ + ───⎟     ↪\n",
       "⎢╲╱    ⎝  9    9 ⎠        ⎝9    9 ⎠     ╲╱    ⎝  9    9 ⎠        ⎝9    9 ⎠     ↪\n",
       "⎢───────────────────────────────────────────────────────────────────────────── ↪\n",
       "⎢                                                   ______________             ↪\n",
       "⎢                                                 ╲╱ 134 - 17⋅√61              ↪\n",
       "⎢                                                                              ↪\n",
       "⎢              ⎛4   √61⎞                               √61   5                 ↪\n",
       "⎢            6⋅⎜─ - ───⎟                             - ─── - ─                 ↪\n",
       "⎢              ⎝9    9 ⎠                                9    9                 ↪\n",
       "⎢──────────────────────────────────── + ──────────────────────────────────── + ↪\n",
       "⎢     _______________________________        _______________________________   ↪\n",
       "⎢    ╱            2                2        ╱            2                2    ↪\n",
       "⎢   ╱  ⎛  4   √61⎞        ⎛5   √61⎞        ╱  ⎛  4   √61⎞        ⎛5   √61⎞     ↪\n",
       "⎢  ╱   ⎜- ─ + ───⎟  + 1 + ⎜─ + ───⎟       ╱   ⎜- ─ + ───⎟  + 1 + ⎜─ + ───⎟     ↪\n",
       "⎢╲╱    ⎝  9    9 ⎠        ⎝9    9 ⎠     ╲╱    ⎝  9    9 ⎠        ⎝9    9 ⎠     ↪\n",
       "⎢───────────────────────────────────────────────────────────────────────────── ↪\n",
       "⎢                                                   ______________             ↪\n",
       "⎣                                                 ╲╱ 134 - 17⋅√61              ↪\n",
       "\n",
       "↪                                                       5   √61                ↪\n",
       "↪                                                     - ─ + ───                ↪\n",
       "↪                   2                                   9    9                 ↪\n",
       "↪  ────────────────────────────────────  ────────────────────────────────────  ↪\n",
       "↪       _______________________________       _______________________________  ↪\n",
       "↪      ╱            2                2       ╱            2                2   ↪\n",
       "↪     ╱  ⎛  4   √61⎞        ⎛5   √61⎞       ╱  ⎛  5   √61⎞        ⎛4   √61⎞    ↪\n",
       "↪    ╱   ⎜- ─ + ───⎟  + 1 + ⎜─ + ───⎟      ╱   ⎜- ─ + ───⎟  + 1 + ⎜─ + ───⎟    ↪\n",
       "↪  ╲╱    ⎝  9    9 ⎠        ⎝9    9 ⎠    ╲╱    ⎝  9    9 ⎠        ⎝9    9 ⎠    ↪\n",
       "↪ ─────────────────────────────────────  ───────────────────────────────────── ↪\n",
       "↪                                                                              ↪\n",
       "↪                                                                              ↪\n",
       "↪                                                                              ↪\n",
       "↪                                                     ⎛  5   √61⎞              ↪\n",
       "↪                                                   2⋅⎜- ─ + ───⎟              ↪\n",
       "↪                   4                                 ⎝  9    9 ⎠              ↪\n",
       "↪  ────────────────────────────────────  ────────────────────────────────────  ↪\n",
       "↪       _______________________________       _______________________________  ↪\n",
       "↪      ╱            2                2       ╱            2                2   ↪\n",
       "↪     ╱  ⎛  4   √61⎞        ⎛5   √61⎞       ╱  ⎛  5   √61⎞        ⎛4   √61⎞    ↪\n",
       "↪    ╱   ⎜- ─ + ───⎟  + 1 + ⎜─ + ───⎟      ╱   ⎜- ─ + ───⎟  + 1 + ⎜─ + ───⎟    ↪\n",
       "↪  ╲╱    ⎝  9    9 ⎠        ⎝9    9 ⎠    ╲╱    ⎝  9    9 ⎠        ⎝9    9 ⎠    ↪\n",
       "↪ ─────────────────────────────────────  ───────────────────────────────────── ↪\n",
       "↪                                                                              ↪\n",
       "↪                                                                              ↪\n",
       "↪                                                                              ↪\n",
       "↪                                                                              ↪\n",
       "↪                                                                              ↪\n",
       "↪                                                                            1 ↪\n",
       "↪ ─────────────────                                         ────────────────── ↪\n",
       "↪ _________________                                              _____________ ↪\n",
       "↪                2                                              ╱            2 ↪\n",
       "↪       ⎛5   √61⎞                                              ╱  ⎛  5   √61⎞  ↪\n",
       "↪ + 1 + ⎜─ + ───⎟                                             ╱   ⎜- ─ + ───⎟  ↪\n",
       "↪       ⎝9    9 ⎠                                           ╲╱    ⎝  9    9 ⎠  ↪\n",
       "↪ ─────────────────                                         ────────────────── ↪\n",
       "↪                                                                              ↪\n",
       "↪                                                                              ↪\n",
       "↪                                                                              ↪\n",
       "↪                                                     ⎛  5   √61⎞              ↪\n",
       "↪                                                   2⋅⎜- ─ + ───⎟              ↪\n",
       "↪                   7                                 ⎝  9    9 ⎠              ↪\n",
       "↪  ────────────────────────────────────  ────────────────────────────────────  ↪\n",
       "↪       _______________________________       _______________________________  ↪\n",
       "↪      ╱            2                2       ╱            2                2   ↪\n",
       "↪     ╱  ⎛  4   √61⎞        ⎛5   √61⎞       ╱  ⎛  5   √61⎞        ⎛4   √61⎞    ↪\n",
       "↪    ╱   ⎜- ─ + ───⎟  + 1 + ⎜─ + ───⎟      ╱   ⎜- ─ + ───⎟  + 1 + ⎜─ + ───⎟    ↪\n",
       "↪  ╲╱    ⎝  9    9 ⎠        ⎝9    9 ⎠    ╲╱    ⎝  9    9 ⎠        ⎝9    9 ⎠    ↪\n",
       "↪ ─────────────────────────────────────  ───────────────────────────────────── ↪\n",
       "↪                                                                              ↪\n",
       "↪                                                                              ↪\n",
       "↪                                                                              ↪\n",
       "↪                                                       5   √61                ↪\n",
       "↪                                                     - ─ + ───                ↪\n",
       "↪                   5                                   9    9                 ↪\n",
       "↪  ────────────────────────────────────  ────────────────────────────────────  ↪\n",
       "↪       _______________________________       _______________________________  ↪\n",
       "↪      ╱            2                2       ╱            2                2   ↪\n",
       "↪     ╱  ⎛  4   √61⎞        ⎛5   √61⎞       ╱  ⎛  5   √61⎞        ⎛4   √61⎞    ↪\n",
       "↪    ╱   ⎜- ─ + ───⎟  + 1 + ⎜─ + ───⎟      ╱   ⎜- ─ + ───⎟  + 1 + ⎜─ + ───⎟    ↪\n",
       "↪  ╲╱    ⎝  9    9 ⎠        ⎝9    9 ⎠    ╲╱    ⎝  9    9 ⎠        ⎝9    9 ⎠    ↪\n",
       "↪ ─────────────────────────────────────  ───────────────────────────────────── ↪\n",
       "↪                                                                              ↪\n",
       "↪                                                                              ↪\n",
       "\n",
       "↪                                                        ⎛4   √61⎞             ↪\n",
       "↪                                                      3⋅⎜─ + ───⎟             ↪\n",
       "↪                    2                                   ⎝9    9 ⎠             ↪\n",
       "↪ + ──────────────────────────────────── + ─────────────────────────────────── ↪\n",
       "↪        _______________________________        ______________________________ ↪\n",
       "↪       ╱            2                2        ╱            2                2 ↪\n",
       "↪      ╱  ⎛  5   √61⎞        ⎛4   √61⎞        ╱  ⎛  5   √61⎞        ⎛4   √61⎞  ↪\n",
       "↪     ╱   ⎜- ─ + ───⎟  + 1 + ⎜─ + ───⎟       ╱   ⎜- ─ + ───⎟  + 1 + ⎜─ + ───⎟  ↪\n",
       "↪   ╲╱    ⎝  9    9 ⎠        ⎝9    9 ⎠     ╲╱    ⎝  9    9 ⎠        ⎝9    9 ⎠  ↪\n",
       "↪ ──────────────────────────────────────────────────────────────────────────── ↪\n",
       "↪               ______________                                                 ↪\n",
       "↪             ╲╱ 17⋅√61 + 134                                                  ↪\n",
       "↪                                                                              ↪\n",
       "↪                                                        ⎛4   √61⎞             ↪\n",
       "↪                                                      6⋅⎜─ + ───⎟             ↪\n",
       "↪                    4                                   ⎝9    9 ⎠             ↪\n",
       "↪ + ──────────────────────────────────── + ─────────────────────────────────── ↪\n",
       "↪        _______________________________        ______________________________ ↪\n",
       "↪       ╱            2                2        ╱            2                2 ↪\n",
       "↪      ╱  ⎛  5   √61⎞        ⎛4   √61⎞        ╱  ⎛  5   √61⎞        ⎛4   √61⎞  ↪\n",
       "↪     ╱   ⎜- ─ + ───⎟  + 1 + ⎜─ + ───⎟       ╱   ⎜- ─ + ───⎟  + 1 + ⎜─ + ───⎟  ↪\n",
       "↪   ╲╱    ⎝  9    9 ⎠        ⎝9    9 ⎠     ╲╱    ⎝  9    9 ⎠        ⎝9    9 ⎠  ↪\n",
       "↪ ──────────────────────────────────────────────────────────────────────────── ↪\n",
       "↪               ______________                                                 ↪\n",
       "↪             ╲╱ 17⋅√61 + 134                                                  ↪\n",
       "↪                                                                              ↪\n",
       "↪                                    4   √61                                   ↪\n",
       "↪                                    ─ + ───                                   ↪\n",
       "↪                                    9    9                                    ↪\n",
       "↪ ────────────────── + ────────────────────────────────────                    ↪\n",
       "↪ __________________        _______________________________                    ↪\n",
       "↪                 2        ╱            2                2                     ↪\n",
       "↪        ⎛4   √61⎞        ╱  ⎛  5   √61⎞        ⎛4   √61⎞                      ↪\n",
       "↪  + 1 + ⎜─ + ───⎟       ╱   ⎜- ─ + ───⎟  + 1 + ⎜─ + ───⎟                      ↪\n",
       "↪        ⎝9    9 ⎠     ╲╱    ⎝  9    9 ⎠        ⎝9    9 ⎠                      ↪\n",
       "↪ ─────────────────────────────────────────────────────────                    ↪\n",
       "↪              ______________                                                  ↪\n",
       "↪            ╲╱ 17⋅√61 + 134                                                   ↪\n",
       "↪                                                                              ↪\n",
       "↪                                                        ⎛4   √61⎞             ↪\n",
       "↪                                                      9⋅⎜─ + ───⎟             ↪\n",
       "↪                    7                                   ⎝9    9 ⎠             ↪\n",
       "↪ + ──────────────────────────────────── + ─────────────────────────────────── ↪\n",
       "↪        _______________________________        ______________________________ ↪\n",
       "↪       ╱            2                2        ╱            2                2 ↪\n",
       "↪      ╱  ⎛  5   √61⎞        ⎛4   √61⎞        ╱  ⎛  5   √61⎞        ⎛4   √61⎞  ↪\n",
       "↪     ╱   ⎜- ─ + ───⎟  + 1 + ⎜─ + ───⎟       ╱   ⎜- ─ + ───⎟  + 1 + ⎜─ + ───⎟  ↪\n",
       "↪   ╲╱    ⎝  9    9 ⎠        ⎝9    9 ⎠     ╲╱    ⎝  9    9 ⎠        ⎝9    9 ⎠  ↪\n",
       "↪ ──────────────────────────────────────────────────────────────────────────── ↪\n",
       "↪               ______________                                                 ↪\n",
       "↪             ╲╱ 17⋅√61 + 134                                                  ↪\n",
       "↪                                                                              ↪\n",
       "↪                                                        ⎛4   √61⎞             ↪\n",
       "↪                                                      6⋅⎜─ + ───⎟             ↪\n",
       "↪                    5                                   ⎝9    9 ⎠             ↪\n",
       "↪ + ──────────────────────────────────── + ─────────────────────────────────── ↪\n",
       "↪        _______________________________        ______________________________ ↪\n",
       "↪       ╱            2                2        ╱            2                2 ↪\n",
       "↪      ╱  ⎛  5   √61⎞        ⎛4   √61⎞        ╱  ⎛  5   √61⎞        ⎛4   √61⎞  ↪\n",
       "↪     ╱   ⎜- ─ + ───⎟  + 1 + ⎜─ + ───⎟       ╱   ⎜- ─ + ───⎟  + 1 + ⎜─ + ───⎟  ↪\n",
       "↪   ╲╱    ⎝  9    9 ⎠        ⎝9    9 ⎠     ╲╱    ⎝  9    9 ⎠        ⎝9    9 ⎠  ↪\n",
       "↪ ──────────────────────────────────────────────────────────────────────────── ↪\n",
       "↪               ______________                                                 ↪\n",
       "↪             ╲╱ 17⋅√61 + 134                                                  ↪\n",
       "\n",
       "↪  ⎤\n",
       "↪  ⎥\n",
       "↪  ⎥\n",
       "↪ ─⎥\n",
       "↪ _⎥\n",
       "↪  ⎥\n",
       "↪  ⎥\n",
       "↪  ⎥\n",
       "↪  ⎥\n",
       "↪ ─⎥\n",
       "↪  ⎥\n",
       "↪  ⎥\n",
       "↪  ⎥\n",
       "↪  ⎥\n",
       "↪  ⎥\n",
       "↪  ⎥\n",
       "↪ ─⎥\n",
       "↪ _⎥\n",
       "↪  ⎥\n",
       "↪  ⎥\n",
       "↪  ⎥\n",
       "↪  ⎥\n",
       "↪ ─⎥\n",
       "↪  ⎥\n",
       "↪  ⎥\n",
       "↪  ⎥\n",
       "↪  ⎥\n",
       "↪  ⎥\n",
       "↪  ⎥\n",
       "↪  ⎥\n",
       "↪  ⎥\n",
       "↪  ⎥\n",
       "↪  ⎥\n",
       "↪  ⎥\n",
       "↪  ⎥\n",
       "↪  ⎥\n",
       "↪  ⎥\n",
       "↪  ⎥\n",
       "↪  ⎥\n",
       "↪  ⎥\n",
       "↪  ⎥\n",
       "↪  ⎥\n",
       "↪ ─⎥\n",
       "↪ _⎥\n",
       "↪  ⎥\n",
       "↪  ⎥\n",
       "↪  ⎥\n",
       "↪  ⎥\n",
       "↪ ─⎥\n",
       "↪  ⎥\n",
       "↪  ⎥\n",
       "↪  ⎥\n",
       "↪  ⎥\n",
       "↪  ⎥\n",
       "↪  ⎥\n",
       "↪ ─⎥\n",
       "↪ _⎥\n",
       "↪  ⎥\n",
       "↪  ⎥\n",
       "↪  ⎥\n",
       "↪  ⎥\n",
       "↪ ─⎥\n",
       "↪  ⎥\n",
       "↪  ⎦"
      ]
     },
     "metadata": {},
     "output_type": "display_data"
    },
    {
     "data": {
      "text/markdown": [
       "**Matrix rank from SVD:** 2"
      ],
      "text/plain": [
       "<IPython.core.display.Markdown object>"
      ]
     },
     "metadata": {},
     "output_type": "display_data"
    },
    {
     "data": {
      "text/markdown": [
       "**COLUMN SPACE C(A) BASIS (SVD)**"
      ],
      "text/plain": [
       "<IPython.core.display.Markdown object>"
      ]
     },
     "metadata": {},
     "output_type": "display_data"
    },
    {
     "data": {
      "text/markdown": [
       "**Method:** First r columns of U matrix"
      ],
      "text/plain": [
       "<IPython.core.display.Markdown object>"
      ]
     },
     "metadata": {},
     "output_type": "display_data"
    },
    {
     "data": {
      "text/markdown": [
       "**Rank:** 2"
      ],
      "text/plain": [
       "<IPython.core.display.Markdown object>"
      ]
     },
     "metadata": {},
     "output_type": "display_data"
    },
    {
     "data": {
      "text/markdown": [
       "**Basis vectors:**"
      ],
      "text/plain": [
       "<IPython.core.display.Markdown object>"
      ]
     },
     "metadata": {},
     "output_type": "display_data"
    },
    {
     "data": {
      "text/latex": [
       "$\\displaystyle \\left[\\begin{matrix}\\frac{- \\frac{\\sqrt{61}}{9} - \\frac{5}{9}}{\\sqrt{\\left(- \\frac{4}{9} + \\frac{\\sqrt{61}}{9}\\right)^{2} + 1 + \\left(\\frac{5}{9} + \\frac{\\sqrt{61}}{9}\\right)^{2}}} & \\frac{- \\frac{5}{9} + \\frac{\\sqrt{61}}{9}}{\\sqrt{\\left(- \\frac{5}{9} + \\frac{\\sqrt{61}}{9}\\right)^{2} + 1 + \\left(\\frac{4}{9} + \\frac{\\sqrt{61}}{9}\\right)^{2}}}\\\\\\frac{\\frac{4}{9} - \\frac{\\sqrt{61}}{9}}{\\sqrt{\\left(- \\frac{4}{9} + \\frac{\\sqrt{61}}{9}\\right)^{2} + 1 + \\left(\\frac{5}{9} + \\frac{\\sqrt{61}}{9}\\right)^{2}}} & \\frac{\\frac{4}{9} + \\frac{\\sqrt{61}}{9}}{\\sqrt{\\left(- \\frac{5}{9} + \\frac{\\sqrt{61}}{9}\\right)^{2} + 1 + \\left(\\frac{4}{9} + \\frac{\\sqrt{61}}{9}\\right)^{2}}}\\\\\\frac{1}{\\sqrt{\\left(- \\frac{4}{9} + \\frac{\\sqrt{61}}{9}\\right)^{2} + 1 + \\left(\\frac{5}{9} + \\frac{\\sqrt{61}}{9}\\right)^{2}}} & \\frac{1}{\\sqrt{\\left(- \\frac{5}{9} + \\frac{\\sqrt{61}}{9}\\right)^{2} + 1 + \\left(\\frac{4}{9} + \\frac{\\sqrt{61}}{9}\\right)^{2}}}\\end{matrix}\\right]$"
      ],
      "text/plain": [
       "⎡               √61   5                               5   √61              ⎤\n",
       "⎢             - ─── - ─                             - ─ + ───              ⎥\n",
       "⎢                9    9                               9    9               ⎥\n",
       "⎢────────────────────────────────────  ────────────────────────────────────⎥\n",
       "⎢     _______________________________       _______________________________⎥\n",
       "⎢    ╱            2                2       ╱            2                2 ⎥\n",
       "⎢   ╱  ⎛  4   √61⎞        ⎛5   √61⎞       ╱  ⎛  5   √61⎞        ⎛4   √61⎞  ⎥\n",
       "⎢  ╱   ⎜- ─ + ───⎟  + 1 + ⎜─ + ───⎟      ╱   ⎜- ─ + ───⎟  + 1 + ⎜─ + ───⎟  ⎥\n",
       "⎢╲╱    ⎝  9    9 ⎠        ⎝9    9 ⎠    ╲╱    ⎝  9    9 ⎠        ⎝9    9 ⎠  ⎥\n",
       "⎢                                                                          ⎥\n",
       "⎢              4   √61                               4   √61               ⎥\n",
       "⎢              ─ - ───                               ─ + ───               ⎥\n",
       "⎢              9    9                                9    9                ⎥\n",
       "⎢────────────────────────────────────  ────────────────────────────────────⎥\n",
       "⎢     _______________________________       _______________________________⎥\n",
       "⎢    ╱            2                2       ╱            2                2 ⎥\n",
       "⎢   ╱  ⎛  4   √61⎞        ⎛5   √61⎞       ╱  ⎛  5   √61⎞        ⎛4   √61⎞  ⎥\n",
       "⎢  ╱   ⎜- ─ + ───⎟  + 1 + ⎜─ + ───⎟      ╱   ⎜- ─ + ───⎟  + 1 + ⎜─ + ───⎟  ⎥\n",
       "⎢╲╱    ⎝  9    9 ⎠        ⎝9    9 ⎠    ╲╱    ⎝  9    9 ⎠        ⎝9    9 ⎠  ⎥\n",
       "⎢                                                                          ⎥\n",
       "⎢                 1                                     1                  ⎥\n",
       "⎢────────────────────────────────────  ────────────────────────────────────⎥\n",
       "⎢     _______________________________       _______________________________⎥\n",
       "⎢    ╱            2                2       ╱            2                2 ⎥\n",
       "⎢   ╱  ⎛  4   √61⎞        ⎛5   √61⎞       ╱  ⎛  5   √61⎞        ⎛4   √61⎞  ⎥\n",
       "⎢  ╱   ⎜- ─ + ───⎟  + 1 + ⎜─ + ───⎟      ╱   ⎜- ─ + ───⎟  + 1 + ⎜─ + ───⎟  ⎥\n",
       "⎣╲╱    ⎝  9    9 ⎠        ⎝9    9 ⎠    ╲╱    ⎝  9    9 ⎠        ⎝9    9 ⎠  ⎦"
      ]
     },
     "metadata": {},
     "output_type": "display_data"
    },
    {
     "data": {
      "text/markdown": [
       "**Dimension:** 2"
      ],
      "text/plain": [
       "<IPython.core.display.Markdown object>"
      ]
     },
     "metadata": {},
     "output_type": "display_data"
    },
    {
     "data": {
      "text/markdown": [
       "**ROW SPACE C(A^T) BASIS (SVD)**"
      ],
      "text/plain": [
       "<IPython.core.display.Markdown object>"
      ]
     },
     "metadata": {},
     "output_type": "display_data"
    },
    {
     "data": {
      "text/markdown": [
       "**Method:** First r columns of V matrix"
      ],
      "text/plain": [
       "<IPython.core.display.Markdown object>"
      ]
     },
     "metadata": {},
     "output_type": "display_data"
    },
    {
     "data": {
      "text/markdown": [
       "**Rank:** 2"
      ],
      "text/plain": [
       "<IPython.core.display.Markdown object>"
      ]
     },
     "metadata": {},
     "output_type": "display_data"
    },
    {
     "data": {
      "text/markdown": [
       "**Basis vectors:**"
      ],
      "text/plain": [
       "<IPython.core.display.Markdown object>"
      ]
     },
     "metadata": {},
     "output_type": "display_data"
    },
    {
     "data": {
      "text/latex": [
       "$\\displaystyle \\left[\\begin{matrix}\\frac{\\frac{- \\frac{\\sqrt{61}}{9} - \\frac{5}{9}}{\\sqrt{\\left(- \\frac{4}{9} + \\frac{\\sqrt{61}}{9}\\right)^{2} + 1 + \\left(\\frac{5}{9} + \\frac{\\sqrt{61}}{9}\\right)^{2}}} + \\frac{3 \\left(\\frac{4}{9} - \\frac{\\sqrt{61}}{9}\\right)}{\\sqrt{\\left(- \\frac{4}{9} + \\frac{\\sqrt{61}}{9}\\right)^{2} + 1 + \\left(\\frac{5}{9} + \\frac{\\sqrt{61}}{9}\\right)^{2}}} + \\frac{2}{\\sqrt{\\left(- \\frac{4}{9} + \\frac{\\sqrt{61}}{9}\\right)^{2} + 1 + \\left(\\frac{5}{9} + \\frac{\\sqrt{61}}{9}\\right)^{2}}}}{\\sqrt{134 - 17 \\sqrt{61}}} & \\frac{\\frac{- \\frac{5}{9} + \\frac{\\sqrt{61}}{9}}{\\sqrt{\\left(- \\frac{5}{9} + \\frac{\\sqrt{61}}{9}\\right)^{2} + 1 + \\left(\\frac{4}{9} + \\frac{\\sqrt{61}}{9}\\right)^{2}}} + \\frac{2}{\\sqrt{\\left(- \\frac{5}{9} + \\frac{\\sqrt{61}}{9}\\right)^{2} + 1 + \\left(\\frac{4}{9} + \\frac{\\sqrt{61}}{9}\\right)^{2}}} + \\frac{3 \\left(\\frac{4}{9} + \\frac{\\sqrt{61}}{9}\\right)}{\\sqrt{\\left(- \\frac{5}{9} + \\frac{\\sqrt{61}}{9}\\right)^{2} + 1 + \\left(\\frac{4}{9} + \\frac{\\sqrt{61}}{9}\\right)^{2}}}}{\\sqrt{17 \\sqrt{61} + 134}}\\\\\\frac{\\frac{2 \\left(- \\frac{\\sqrt{61}}{9} - \\frac{5}{9}\\right)}{\\sqrt{\\left(- \\frac{4}{9} + \\frac{\\sqrt{61}}{9}\\right)^{2} + 1 + \\left(\\frac{5}{9} + \\frac{\\sqrt{61}}{9}\\right)^{2}}} + \\frac{6 \\left(\\frac{4}{9} - \\frac{\\sqrt{61}}{9}\\right)}{\\sqrt{\\left(- \\frac{4}{9} + \\frac{\\sqrt{61}}{9}\\right)^{2} + 1 + \\left(\\frac{5}{9} + \\frac{\\sqrt{61}}{9}\\right)^{2}}} + \\frac{4}{\\sqrt{\\left(- \\frac{4}{9} + \\frac{\\sqrt{61}}{9}\\right)^{2} + 1 + \\left(\\frac{5}{9} + \\frac{\\sqrt{61}}{9}\\right)^{2}}}}{\\sqrt{134 - 17 \\sqrt{61}}} & \\frac{\\frac{2 \\left(- \\frac{5}{9} + \\frac{\\sqrt{61}}{9}\\right)}{\\sqrt{\\left(- \\frac{5}{9} + \\frac{\\sqrt{61}}{9}\\right)^{2} + 1 + \\left(\\frac{4}{9} + \\frac{\\sqrt{61}}{9}\\right)^{2}}} + \\frac{4}{\\sqrt{\\left(- \\frac{5}{9} + \\frac{\\sqrt{61}}{9}\\right)^{2} + 1 + \\left(\\frac{4}{9} + \\frac{\\sqrt{61}}{9}\\right)^{2}}} + \\frac{6 \\left(\\frac{4}{9} + \\frac{\\sqrt{61}}{9}\\right)}{\\sqrt{\\left(- \\frac{5}{9} + \\frac{\\sqrt{61}}{9}\\right)^{2} + 1 + \\left(\\frac{4}{9} + \\frac{\\sqrt{61}}{9}\\right)^{2}}}}{\\sqrt{17 \\sqrt{61} + 134}}\\\\\\frac{\\frac{\\frac{4}{9} - \\frac{\\sqrt{61}}{9}}{\\sqrt{\\left(- \\frac{4}{9} + \\frac{\\sqrt{61}}{9}\\right)^{2} + 1 + \\left(\\frac{5}{9} + \\frac{\\sqrt{61}}{9}\\right)^{2}}} + \\frac{1}{\\sqrt{\\left(- \\frac{4}{9} + \\frac{\\sqrt{61}}{9}\\right)^{2} + 1 + \\left(\\frac{5}{9} + \\frac{\\sqrt{61}}{9}\\right)^{2}}}}{\\sqrt{134 - 17 \\sqrt{61}}} & \\frac{\\frac{1}{\\sqrt{\\left(- \\frac{5}{9} + \\frac{\\sqrt{61}}{9}\\right)^{2} + 1 + \\left(\\frac{4}{9} + \\frac{\\sqrt{61}}{9}\\right)^{2}}} + \\frac{\\frac{4}{9} + \\frac{\\sqrt{61}}{9}}{\\sqrt{\\left(- \\frac{5}{9} + \\frac{\\sqrt{61}}{9}\\right)^{2} + 1 + \\left(\\frac{4}{9} + \\frac{\\sqrt{61}}{9}\\right)^{2}}}}{\\sqrt{17 \\sqrt{61} + 134}}\\\\\\frac{\\frac{9 \\left(\\frac{4}{9} - \\frac{\\sqrt{61}}{9}\\right)}{\\sqrt{\\left(- \\frac{4}{9} + \\frac{\\sqrt{61}}{9}\\right)^{2} + 1 + \\left(\\frac{5}{9} + \\frac{\\sqrt{61}}{9}\\right)^{2}}} + \\frac{2 \\left(- \\frac{\\sqrt{61}}{9} - \\frac{5}{9}\\right)}{\\sqrt{\\left(- \\frac{4}{9} + \\frac{\\sqrt{61}}{9}\\right)^{2} + 1 + \\left(\\frac{5}{9} + \\frac{\\sqrt{61}}{9}\\right)^{2}}} + \\frac{7}{\\sqrt{\\left(- \\frac{4}{9} + \\frac{\\sqrt{61}}{9}\\right)^{2} + 1 + \\left(\\frac{5}{9} + \\frac{\\sqrt{61}}{9}\\right)^{2}}}}{\\sqrt{134 - 17 \\sqrt{61}}} & \\frac{\\frac{2 \\left(- \\frac{5}{9} + \\frac{\\sqrt{61}}{9}\\right)}{\\sqrt{\\left(- \\frac{5}{9} + \\frac{\\sqrt{61}}{9}\\right)^{2} + 1 + \\left(\\frac{4}{9} + \\frac{\\sqrt{61}}{9}\\right)^{2}}} + \\frac{7}{\\sqrt{\\left(- \\frac{5}{9} + \\frac{\\sqrt{61}}{9}\\right)^{2} + 1 + \\left(\\frac{4}{9} + \\frac{\\sqrt{61}}{9}\\right)^{2}}} + \\frac{9 \\left(\\frac{4}{9} + \\frac{\\sqrt{61}}{9}\\right)}{\\sqrt{\\left(- \\frac{5}{9} + \\frac{\\sqrt{61}}{9}\\right)^{2} + 1 + \\left(\\frac{4}{9} + \\frac{\\sqrt{61}}{9}\\right)^{2}}}}{\\sqrt{17 \\sqrt{61} + 134}}\\\\\\frac{\\frac{6 \\left(\\frac{4}{9} - \\frac{\\sqrt{61}}{9}\\right)}{\\sqrt{\\left(- \\frac{4}{9} + \\frac{\\sqrt{61}}{9}\\right)^{2} + 1 + \\left(\\frac{5}{9} + \\frac{\\sqrt{61}}{9}\\right)^{2}}} + \\frac{- \\frac{\\sqrt{61}}{9} - \\frac{5}{9}}{\\sqrt{\\left(- \\frac{4}{9} + \\frac{\\sqrt{61}}{9}\\right)^{2} + 1 + \\left(\\frac{5}{9} + \\frac{\\sqrt{61}}{9}\\right)^{2}}} + \\frac{5}{\\sqrt{\\left(- \\frac{4}{9} + \\frac{\\sqrt{61}}{9}\\right)^{2} + 1 + \\left(\\frac{5}{9} + \\frac{\\sqrt{61}}{9}\\right)^{2}}}}{\\sqrt{134 - 17 \\sqrt{61}}} & \\frac{\\frac{- \\frac{5}{9} + \\frac{\\sqrt{61}}{9}}{\\sqrt{\\left(- \\frac{5}{9} + \\frac{\\sqrt{61}}{9}\\right)^{2} + 1 + \\left(\\frac{4}{9} + \\frac{\\sqrt{61}}{9}\\right)^{2}}} + \\frac{5}{\\sqrt{\\left(- \\frac{5}{9} + \\frac{\\sqrt{61}}{9}\\right)^{2} + 1 + \\left(\\frac{4}{9} + \\frac{\\sqrt{61}}{9}\\right)^{2}}} + \\frac{6 \\left(\\frac{4}{9} + \\frac{\\sqrt{61}}{9}\\right)}{\\sqrt{\\left(- \\frac{5}{9} + \\frac{\\sqrt{61}}{9}\\right)^{2} + 1 + \\left(\\frac{4}{9} + \\frac{\\sqrt{61}}{9}\\right)^{2}}}}{\\sqrt{17 \\sqrt{61} + 134}}\\end{matrix}\\right]$"
      ],
      "text/plain": [
       "⎡               √61   5                               ⎛4   √61⎞                ↪\n",
       "⎢             - ─── - ─                             3⋅⎜─ - ───⎟                ↪\n",
       "⎢                9    9                               ⎝9    9 ⎠                ↪\n",
       "⎢──────────────────────────────────── + ──────────────────────────────────── + ↪\n",
       "⎢     _______________________________        _______________________________   ↪\n",
       "⎢    ╱            2                2        ╱            2                2    ↪\n",
       "⎢   ╱  ⎛  4   √61⎞        ⎛5   √61⎞        ╱  ⎛  4   √61⎞        ⎛5   √61⎞     ↪\n",
       "⎢  ╱   ⎜- ─ + ───⎟  + 1 + ⎜─ + ───⎟       ╱   ⎜- ─ + ───⎟  + 1 + ⎜─ + ───⎟     ↪\n",
       "⎢╲╱    ⎝  9    9 ⎠        ⎝9    9 ⎠     ╲╱    ⎝  9    9 ⎠        ⎝9    9 ⎠     ↪\n",
       "⎢───────────────────────────────────────────────────────────────────────────── ↪\n",
       "⎢                                                   ______________             ↪\n",
       "⎢                                                 ╲╱ 134 - 17⋅√61              ↪\n",
       "⎢                                                                              ↪\n",
       "⎢             ⎛  √61   5⎞                             ⎛4   √61⎞                ↪\n",
       "⎢           2⋅⎜- ─── - ─⎟                           6⋅⎜─ - ───⎟                ↪\n",
       "⎢             ⎝   9    9⎠                             ⎝9    9 ⎠                ↪\n",
       "⎢──────────────────────────────────── + ──────────────────────────────────── + ↪\n",
       "⎢     _______________________________        _______________________________   ↪\n",
       "⎢    ╱            2                2        ╱            2                2    ↪\n",
       "⎢   ╱  ⎛  4   √61⎞        ⎛5   √61⎞        ╱  ⎛  4   √61⎞        ⎛5   √61⎞     ↪\n",
       "⎢  ╱   ⎜- ─ + ───⎟  + 1 + ⎜─ + ───⎟       ╱   ⎜- ─ + ───⎟  + 1 + ⎜─ + ───⎟     ↪\n",
       "⎢╲╱    ⎝  9    9 ⎠        ⎝9    9 ⎠     ╲╱    ⎝  9    9 ⎠        ⎝9    9 ⎠     ↪\n",
       "⎢───────────────────────────────────────────────────────────────────────────── ↪\n",
       "⎢                                                   ______________             ↪\n",
       "⎢                                                 ╲╱ 134 - 17⋅√61              ↪\n",
       "⎢                                                                              ↪\n",
       "⎢                                 4   √61                                      ↪\n",
       "⎢                                 ─ - ───                                      ↪\n",
       "⎢                                 9    9                                    1  ↪\n",
       "⎢                   ──────────────────────────────────── + ─────────────────── ↪\n",
       "⎢                        _______________________________        ______________ ↪\n",
       "⎢                       ╱            2                2        ╱            2  ↪\n",
       "⎢                      ╱  ⎛  4   √61⎞        ⎛5   √61⎞        ╱  ⎛  4   √61⎞   ↪\n",
       "⎢                     ╱   ⎜- ─ + ───⎟  + 1 + ⎜─ + ───⎟       ╱   ⎜- ─ + ───⎟   ↪\n",
       "⎢                   ╲╱    ⎝  9    9 ⎠        ⎝9    9 ⎠     ╲╱    ⎝  9    9 ⎠   ↪\n",
       "⎢                   ────────────────────────────────────────────────────────── ↪\n",
       "⎢                                                  ______________              ↪\n",
       "⎢                                                ╲╱ 134 - 17⋅√61               ↪\n",
       "⎢                                                                              ↪\n",
       "⎢              ⎛4   √61⎞                             ⎛  √61   5⎞               ↪\n",
       "⎢            9⋅⎜─ - ───⎟                           2⋅⎜- ─── - ─⎟               ↪\n",
       "⎢              ⎝9    9 ⎠                             ⎝   9    9⎠               ↪\n",
       "⎢──────────────────────────────────── + ──────────────────────────────────── + ↪\n",
       "⎢     _______________________________        _______________________________   ↪\n",
       "⎢    ╱            2                2        ╱            2                2    ↪\n",
       "⎢   ╱  ⎛  4   √61⎞        ⎛5   √61⎞        ╱  ⎛  4   √61⎞        ⎛5   √61⎞     ↪\n",
       "⎢  ╱   ⎜- ─ + ───⎟  + 1 + ⎜─ + ───⎟       ╱   ⎜- ─ + ───⎟  + 1 + ⎜─ + ───⎟     ↪\n",
       "⎢╲╱    ⎝  9    9 ⎠        ⎝9    9 ⎠     ╲╱    ⎝  9    9 ⎠        ⎝9    9 ⎠     ↪\n",
       "⎢───────────────────────────────────────────────────────────────────────────── ↪\n",
       "⎢                                                   ______________             ↪\n",
       "⎢                                                 ╲╱ 134 - 17⋅√61              ↪\n",
       "⎢                                                                              ↪\n",
       "⎢              ⎛4   √61⎞                               √61   5                 ↪\n",
       "⎢            6⋅⎜─ - ───⎟                             - ─── - ─                 ↪\n",
       "⎢              ⎝9    9 ⎠                                9    9                 ↪\n",
       "⎢──────────────────────────────────── + ──────────────────────────────────── + ↪\n",
       "⎢     _______________________________        _______________________________   ↪\n",
       "⎢    ╱            2                2        ╱            2                2    ↪\n",
       "⎢   ╱  ⎛  4   √61⎞        ⎛5   √61⎞        ╱  ⎛  4   √61⎞        ⎛5   √61⎞     ↪\n",
       "⎢  ╱   ⎜- ─ + ───⎟  + 1 + ⎜─ + ───⎟       ╱   ⎜- ─ + ───⎟  + 1 + ⎜─ + ───⎟     ↪\n",
       "⎢╲╱    ⎝  9    9 ⎠        ⎝9    9 ⎠     ╲╱    ⎝  9    9 ⎠        ⎝9    9 ⎠     ↪\n",
       "⎢───────────────────────────────────────────────────────────────────────────── ↪\n",
       "⎢                                                   ______________             ↪\n",
       "⎣                                                 ╲╱ 134 - 17⋅√61              ↪\n",
       "\n",
       "↪                                                       5   √61                ↪\n",
       "↪                                                     - ─ + ───                ↪\n",
       "↪                   2                                   9    9                 ↪\n",
       "↪  ────────────────────────────────────  ────────────────────────────────────  ↪\n",
       "↪       _______________________________       _______________________________  ↪\n",
       "↪      ╱            2                2       ╱            2                2   ↪\n",
       "↪     ╱  ⎛  4   √61⎞        ⎛5   √61⎞       ╱  ⎛  5   √61⎞        ⎛4   √61⎞    ↪\n",
       "↪    ╱   ⎜- ─ + ───⎟  + 1 + ⎜─ + ───⎟      ╱   ⎜- ─ + ───⎟  + 1 + ⎜─ + ───⎟    ↪\n",
       "↪  ╲╱    ⎝  9    9 ⎠        ⎝9    9 ⎠    ╲╱    ⎝  9    9 ⎠        ⎝9    9 ⎠    ↪\n",
       "↪ ─────────────────────────────────────  ───────────────────────────────────── ↪\n",
       "↪                                                                              ↪\n",
       "↪                                                                              ↪\n",
       "↪                                                                              ↪\n",
       "↪                                                     ⎛  5   √61⎞              ↪\n",
       "↪                                                   2⋅⎜- ─ + ───⎟              ↪\n",
       "↪                   4                                 ⎝  9    9 ⎠              ↪\n",
       "↪  ────────────────────────────────────  ────────────────────────────────────  ↪\n",
       "↪       _______________________________       _______________________________  ↪\n",
       "↪      ╱            2                2       ╱            2                2   ↪\n",
       "↪     ╱  ⎛  4   √61⎞        ⎛5   √61⎞       ╱  ⎛  5   √61⎞        ⎛4   √61⎞    ↪\n",
       "↪    ╱   ⎜- ─ + ───⎟  + 1 + ⎜─ + ───⎟      ╱   ⎜- ─ + ───⎟  + 1 + ⎜─ + ───⎟    ↪\n",
       "↪  ╲╱    ⎝  9    9 ⎠        ⎝9    9 ⎠    ╲╱    ⎝  9    9 ⎠        ⎝9    9 ⎠    ↪\n",
       "↪ ─────────────────────────────────────  ───────────────────────────────────── ↪\n",
       "↪                                                                              ↪\n",
       "↪                                                                              ↪\n",
       "↪                                                                              ↪\n",
       "↪                                                                              ↪\n",
       "↪                                                                              ↪\n",
       "↪                                                                            1 ↪\n",
       "↪ ─────────────────                                         ────────────────── ↪\n",
       "↪ _________________                                              _____________ ↪\n",
       "↪                2                                              ╱            2 ↪\n",
       "↪       ⎛5   √61⎞                                              ╱  ⎛  5   √61⎞  ↪\n",
       "↪ + 1 + ⎜─ + ───⎟                                             ╱   ⎜- ─ + ───⎟  ↪\n",
       "↪       ⎝9    9 ⎠                                           ╲╱    ⎝  9    9 ⎠  ↪\n",
       "↪ ─────────────────                                         ────────────────── ↪\n",
       "↪                                                                              ↪\n",
       "↪                                                                              ↪\n",
       "↪                                                                              ↪\n",
       "↪                                                     ⎛  5   √61⎞              ↪\n",
       "↪                                                   2⋅⎜- ─ + ───⎟              ↪\n",
       "↪                   7                                 ⎝  9    9 ⎠              ↪\n",
       "↪  ────────────────────────────────────  ────────────────────────────────────  ↪\n",
       "↪       _______________________________       _______________________________  ↪\n",
       "↪      ╱            2                2       ╱            2                2   ↪\n",
       "↪     ╱  ⎛  4   √61⎞        ⎛5   √61⎞       ╱  ⎛  5   √61⎞        ⎛4   √61⎞    ↪\n",
       "↪    ╱   ⎜- ─ + ───⎟  + 1 + ⎜─ + ───⎟      ╱   ⎜- ─ + ───⎟  + 1 + ⎜─ + ───⎟    ↪\n",
       "↪  ╲╱    ⎝  9    9 ⎠        ⎝9    9 ⎠    ╲╱    ⎝  9    9 ⎠        ⎝9    9 ⎠    ↪\n",
       "↪ ─────────────────────────────────────  ───────────────────────────────────── ↪\n",
       "↪                                                                              ↪\n",
       "↪                                                                              ↪\n",
       "↪                                                                              ↪\n",
       "↪                                                       5   √61                ↪\n",
       "↪                                                     - ─ + ───                ↪\n",
       "↪                   5                                   9    9                 ↪\n",
       "↪  ────────────────────────────────────  ────────────────────────────────────  ↪\n",
       "↪       _______________________________       _______________________________  ↪\n",
       "↪      ╱            2                2       ╱            2                2   ↪\n",
       "↪     ╱  ⎛  4   √61⎞        ⎛5   √61⎞       ╱  ⎛  5   √61⎞        ⎛4   √61⎞    ↪\n",
       "↪    ╱   ⎜- ─ + ───⎟  + 1 + ⎜─ + ───⎟      ╱   ⎜- ─ + ───⎟  + 1 + ⎜─ + ───⎟    ↪\n",
       "↪  ╲╱    ⎝  9    9 ⎠        ⎝9    9 ⎠    ╲╱    ⎝  9    9 ⎠        ⎝9    9 ⎠    ↪\n",
       "↪ ─────────────────────────────────────  ───────────────────────────────────── ↪\n",
       "↪                                                                              ↪\n",
       "↪                                                                              ↪\n",
       "\n",
       "↪                                                        ⎛4   √61⎞             ↪\n",
       "↪                                                      3⋅⎜─ + ───⎟             ↪\n",
       "↪                    2                                   ⎝9    9 ⎠             ↪\n",
       "↪ + ──────────────────────────────────── + ─────────────────────────────────── ↪\n",
       "↪        _______________________________        ______________________________ ↪\n",
       "↪       ╱            2                2        ╱            2                2 ↪\n",
       "↪      ╱  ⎛  5   √61⎞        ⎛4   √61⎞        ╱  ⎛  5   √61⎞        ⎛4   √61⎞  ↪\n",
       "↪     ╱   ⎜- ─ + ───⎟  + 1 + ⎜─ + ───⎟       ╱   ⎜- ─ + ───⎟  + 1 + ⎜─ + ───⎟  ↪\n",
       "↪   ╲╱    ⎝  9    9 ⎠        ⎝9    9 ⎠     ╲╱    ⎝  9    9 ⎠        ⎝9    9 ⎠  ↪\n",
       "↪ ──────────────────────────────────────────────────────────────────────────── ↪\n",
       "↪               ______________                                                 ↪\n",
       "↪             ╲╱ 17⋅√61 + 134                                                  ↪\n",
       "↪                                                                              ↪\n",
       "↪                                                        ⎛4   √61⎞             ↪\n",
       "↪                                                      6⋅⎜─ + ───⎟             ↪\n",
       "↪                    4                                   ⎝9    9 ⎠             ↪\n",
       "↪ + ──────────────────────────────────── + ─────────────────────────────────── ↪\n",
       "↪        _______________________________        ______________________________ ↪\n",
       "↪       ╱            2                2        ╱            2                2 ↪\n",
       "↪      ╱  ⎛  5   √61⎞        ⎛4   √61⎞        ╱  ⎛  5   √61⎞        ⎛4   √61⎞  ↪\n",
       "↪     ╱   ⎜- ─ + ───⎟  + 1 + ⎜─ + ───⎟       ╱   ⎜- ─ + ───⎟  + 1 + ⎜─ + ───⎟  ↪\n",
       "↪   ╲╱    ⎝  9    9 ⎠        ⎝9    9 ⎠     ╲╱    ⎝  9    9 ⎠        ⎝9    9 ⎠  ↪\n",
       "↪ ──────────────────────────────────────────────────────────────────────────── ↪\n",
       "↪               ______________                                                 ↪\n",
       "↪             ╲╱ 17⋅√61 + 134                                                  ↪\n",
       "↪                                                                              ↪\n",
       "↪                                    4   √61                                   ↪\n",
       "↪                                    ─ + ───                                   ↪\n",
       "↪                                    9    9                                    ↪\n",
       "↪ ────────────────── + ────────────────────────────────────                    ↪\n",
       "↪ __________________        _______________________________                    ↪\n",
       "↪                 2        ╱            2                2                     ↪\n",
       "↪        ⎛4   √61⎞        ╱  ⎛  5   √61⎞        ⎛4   √61⎞                      ↪\n",
       "↪  + 1 + ⎜─ + ───⎟       ╱   ⎜- ─ + ───⎟  + 1 + ⎜─ + ───⎟                      ↪\n",
       "↪        ⎝9    9 ⎠     ╲╱    ⎝  9    9 ⎠        ⎝9    9 ⎠                      ↪\n",
       "↪ ─────────────────────────────────────────────────────────                    ↪\n",
       "↪              ______________                                                  ↪\n",
       "↪            ╲╱ 17⋅√61 + 134                                                   ↪\n",
       "↪                                                                              ↪\n",
       "↪                                                        ⎛4   √61⎞             ↪\n",
       "↪                                                      9⋅⎜─ + ───⎟             ↪\n",
       "↪                    7                                   ⎝9    9 ⎠             ↪\n",
       "↪ + ──────────────────────────────────── + ─────────────────────────────────── ↪\n",
       "↪        _______________________________        ______________________________ ↪\n",
       "↪       ╱            2                2        ╱            2                2 ↪\n",
       "↪      ╱  ⎛  5   √61⎞        ⎛4   √61⎞        ╱  ⎛  5   √61⎞        ⎛4   √61⎞  ↪\n",
       "↪     ╱   ⎜- ─ + ───⎟  + 1 + ⎜─ + ───⎟       ╱   ⎜- ─ + ───⎟  + 1 + ⎜─ + ───⎟  ↪\n",
       "↪   ╲╱    ⎝  9    9 ⎠        ⎝9    9 ⎠     ╲╱    ⎝  9    9 ⎠        ⎝9    9 ⎠  ↪\n",
       "↪ ──────────────────────────────────────────────────────────────────────────── ↪\n",
       "↪               ______________                                                 ↪\n",
       "↪             ╲╱ 17⋅√61 + 134                                                  ↪\n",
       "↪                                                                              ↪\n",
       "↪                                                        ⎛4   √61⎞             ↪\n",
       "↪                                                      6⋅⎜─ + ───⎟             ↪\n",
       "↪                    5                                   ⎝9    9 ⎠             ↪\n",
       "↪ + ──────────────────────────────────── + ─────────────────────────────────── ↪\n",
       "↪        _______________________________        ______________________________ ↪\n",
       "↪       ╱            2                2        ╱            2                2 ↪\n",
       "↪      ╱  ⎛  5   √61⎞        ⎛4   √61⎞        ╱  ⎛  5   √61⎞        ⎛4   √61⎞  ↪\n",
       "↪     ╱   ⎜- ─ + ───⎟  + 1 + ⎜─ + ───⎟       ╱   ⎜- ─ + ───⎟  + 1 + ⎜─ + ───⎟  ↪\n",
       "↪   ╲╱    ⎝  9    9 ⎠        ⎝9    9 ⎠     ╲╱    ⎝  9    9 ⎠        ⎝9    9 ⎠  ↪\n",
       "↪ ──────────────────────────────────────────────────────────────────────────── ↪\n",
       "↪               ______________                                                 ↪\n",
       "↪             ╲╱ 17⋅√61 + 134                                                  ↪\n",
       "\n",
       "↪  ⎤\n",
       "↪  ⎥\n",
       "↪  ⎥\n",
       "↪ ─⎥\n",
       "↪ _⎥\n",
       "↪  ⎥\n",
       "↪  ⎥\n",
       "↪  ⎥\n",
       "↪  ⎥\n",
       "↪ ─⎥\n",
       "↪  ⎥\n",
       "↪  ⎥\n",
       "↪  ⎥\n",
       "↪  ⎥\n",
       "↪  ⎥\n",
       "↪  ⎥\n",
       "↪ ─⎥\n",
       "↪ _⎥\n",
       "↪  ⎥\n",
       "↪  ⎥\n",
       "↪  ⎥\n",
       "↪  ⎥\n",
       "↪ ─⎥\n",
       "↪  ⎥\n",
       "↪  ⎥\n",
       "↪  ⎥\n",
       "↪  ⎥\n",
       "↪  ⎥\n",
       "↪  ⎥\n",
       "↪  ⎥\n",
       "↪  ⎥\n",
       "↪  ⎥\n",
       "↪  ⎥\n",
       "↪  ⎥\n",
       "↪  ⎥\n",
       "↪  ⎥\n",
       "↪  ⎥\n",
       "↪  ⎥\n",
       "↪  ⎥\n",
       "↪  ⎥\n",
       "↪  ⎥\n",
       "↪  ⎥\n",
       "↪ ─⎥\n",
       "↪ _⎥\n",
       "↪  ⎥\n",
       "↪  ⎥\n",
       "↪  ⎥\n",
       "↪  ⎥\n",
       "↪ ─⎥\n",
       "↪  ⎥\n",
       "↪  ⎥\n",
       "↪  ⎥\n",
       "↪  ⎥\n",
       "↪  ⎥\n",
       "↪  ⎥\n",
       "↪ ─⎥\n",
       "↪ _⎥\n",
       "↪  ⎥\n",
       "↪  ⎥\n",
       "↪  ⎥\n",
       "↪  ⎥\n",
       "↪ ─⎥\n",
       "↪  ⎥\n",
       "↪  ⎦"
      ]
     },
     "metadata": {},
     "output_type": "display_data"
    },
    {
     "data": {
      "text/markdown": [
       "**Dimension:** 2"
      ],
      "text/plain": [
       "<IPython.core.display.Markdown object>"
      ]
     },
     "metadata": {},
     "output_type": "display_data"
    },
    {
     "data": {
      "text/markdown": [
       "**NULL SPACE N(A) BASIS (SVD)**"
      ],
      "text/plain": [
       "<IPython.core.display.Markdown object>"
      ]
     },
     "metadata": {},
     "output_type": "display_data"
    },
    {
     "data": {
      "text/markdown": [
       "**Method:** Last (n-r) columns of V matrix"
      ],
      "text/plain": [
       "<IPython.core.display.Markdown object>"
      ]
     },
     "metadata": {},
     "output_type": "display_data"
    },
    {
     "data": {
      "text/markdown": [
       "**Nullity:** 0"
      ],
      "text/plain": [
       "<IPython.core.display.Markdown object>"
      ]
     },
     "metadata": {},
     "output_type": "display_data"
    },
    {
     "data": {
      "text/markdown": [
       "**Dimension:** 0"
      ],
      "text/plain": [
       "<IPython.core.display.Markdown object>"
      ]
     },
     "metadata": {},
     "output_type": "display_data"
    },
    {
     "data": {
      "text/markdown": [
       "**LEFT NULL SPACE N(A^T) BASIS (SVD)**"
      ],
      "text/plain": [
       "<IPython.core.display.Markdown object>"
      ]
     },
     "metadata": {},
     "output_type": "display_data"
    },
    {
     "data": {
      "text/markdown": [
       "**Method:** Last (m-r) columns of U matrix"
      ],
      "text/plain": [
       "<IPython.core.display.Markdown object>"
      ]
     },
     "metadata": {},
     "output_type": "display_data"
    },
    {
     "data": {
      "text/markdown": [
       "**Dimension:** 0"
      ],
      "text/plain": [
       "<IPython.core.display.Markdown object>"
      ]
     },
     "metadata": {},
     "output_type": "display_data"
    },
    {
     "data": {
      "text/markdown": [
       "**Dimension:** 0"
      ],
      "text/plain": [
       "<IPython.core.display.Markdown object>"
      ]
     },
     "metadata": {},
     "output_type": "display_data"
    }
   ],
   "source": [
    "# Using SymPy SVD to find the four fundamental subspaces\n",
    "\n",
    "# Compute SVD using SymPy: A = U * Σ * V^T\n",
    "U, sigma_vector, V = A.singular_value_decomposition()\n",
    "\n",
    "# Display SVD components\n",
    "\n",
    "display(Markdown(\"**U matrix:**\"))\n",
    "display(U)\n",
    "\n",
    "display(Markdown(\"**Singular values (diagonal of Σ):**\"))\n",
    "# Convert singular values to a list for display\n",
    "sigma_list = [sigma_vector[i] for i in range(len(sigma_vector))]\n",
    "display(Markdown(f\"σ = {sigma_list}\"))\n",
    "\n",
    "display(Markdown(\"**V matrix:**\"))\n",
    "display(V)\n",
    "\n",
    "# Determine rank from non-zero singular values\n",
    "rank = len([s for s in sigma_vector if s != 0])\n",
    "\n",
    "display(Markdown(f\"**Matrix rank from SVD:** {rank}\"))\n",
    "\n",
    "# Extract the four fundamental subspaces from SVD\n",
    "\n",
    "# 1. Column Space C(A): First 'rank' columns of U\n",
    "col_space_svd = [U.col(i) for i in range(rank)]\n",
    "\n",
    "# 2. Left Null Space N(A^T): Last (m-rank) columns of U\n",
    "left_null_space_svd = [U.col(i) for i in range(rank, U.cols)]\n",
    "\n",
    "# 3. Row Space C(A^T): First 'rank' rows of V^T (which are first 'rank' columns of V)  \n",
    "row_space_svd = [V.col(i) for i in range(rank)]\n",
    "\n",
    "# 4. Null Space N(A): Last (n-rank) rows of V^T (which are last (n-rank) columns of V)\n",
    "null_space_svd = [V.col(i) for i in range(rank, V.cols)]\n",
    "\n",
    "# Display results using the existing print_basis function\n",
    "print_basis(\"COLUMN SPACE C(A) BASIS (SVD)\", col_space_svd, len(col_space_svd),\n",
    "           extra_info={\"Method\": \"First r columns of U matrix\", \"Rank\": rank})\n",
    "\n",
    "print_basis(\"ROW SPACE C(A^T) BASIS (SVD)\", row_space_svd, len(row_space_svd),\n",
    "           extra_info={\"Method\": \"First r columns of V matrix\", \"Rank\": rank})\n",
    "\n",
    "print_basis(\"NULL SPACE N(A) BASIS (SVD)\", null_space_svd, len(null_space_svd),\n",
    "           extra_info={\"Method\": \"Last (n-r) columns of V matrix\", \"Nullity\": len(null_space_svd)})\n",
    "\n",
    "print_basis(\"LEFT NULL SPACE N(A^T) BASIS (SVD)\", left_null_space_svd, len(left_null_space_svd),\n",
    "           extra_info={\"Method\": \"Last (m-r) columns of U matrix\", \"Dimension\": len(left_null_space_svd)})"
   ]
  }
 ],
 "metadata": {
  "kernelspec": {
   "display_name": "Python 3",
   "language": "python",
   "name": "python3"
  },
  "language_info": {
   "codemirror_mode": {
    "name": "ipython",
    "version": 3
   },
   "file_extension": ".py",
   "mimetype": "text/x-python",
   "name": "python",
   "nbconvert_exporter": "python",
   "pygments_lexer": "ipython3",
   "version": "3.11.9"
  }
 },
 "nbformat": 4,
 "nbformat_minor": 5
}
